{
 "cells": [
  {
   "cell_type": "markdown",
   "metadata": {},
   "source": [
    "# Error propagation\n",
    "\n",
    "a) Propagate uncertainties for the following expressions using [SymPy](https://www.sympy.org) following the examples for [uncorrelated variables](https://nbviewer.jupyter.org/urls/www.physi.uni-heidelberg.de/Einrichtungen/FP/Datenanalyse/FP_Gaussian_error_propagation.ipynb?flush_cache=false) and [correlated variables](https://nbviewer.jupyter.org/urls/www.physi.uni-heidelberg.de/Einrichtungen/FP/Datenanalyse/FP_Gaussian_error_propagation_corr.ipynb?flush_cache=false) from the FP web page.\n",
    "\n",
    "i) Find expressions for the absolute uncertainty $\\sigma_z$ for $z = x + y$ and $z = x - y$ \n",
    "\n",
    "ii) Find expressions for the relative uncertainty $\\sigma_z / z$ for $z = x \\cdot y, \\; z = x / y$ and $z = x^n y^n$\n",
    "\n",
    "iii) The acceleration of gravity with a simple pendulum is given by the following formula:\n",
    "$$g = 4  \\pi^2 \\frac{L}{T^2}$$\n",
    "The relevant variables are the length $L$ of the pendulum and the period $T$ with the corresponding errors $\\sigma_L$ and $\\sigma_T$.\n",
    "\n",
    "b) The radius $r$ and the height $h$ of a cylinder have been measured to $r = 2$ cm and $h = 3$ cm. The uncertainty for both measurements is $\\sigma = 0.05$ cm. Determine the volume of the cylinder and its uncertainty assuming (i) that both measurements are uncorrelated and (ii) that both measurements are fully correlated.\n",
    "\n",
    "c) The scattering angle and the radial distance of a certain particle can be determined from a position measurement $(x,y)$ \n",
    "$$r = \\sqrt{x^2 + y^2}, \\quad \\theta = \\mathrm{atan2}(y, x)$$\n",
    "You find more on the [atan2](https://en.wikipedia.org/wiki/Atan2) function on wikipedia. The position ($x$,$y$) is measured with the corresponding uncertainties $\\sigma_x$ and $\\sigma_y$. Write a python function that returns the covariance matrix $U$ of $r$ and $\\theta$ for a given covariance matrix $V$ of $x$ and $y$. Determine $U$ under the assumption that $x$ and $y$ are uncorrelated. Hint: The formulas you need can be found in the script.\n"
   ]
  },
  {
   "cell_type": "markdown",
   "metadata": {},
   "source": [
    "### Solution"
   ]
  },
  {
   "cell_type": "code",
   "execution_count": 1,
   "metadata": {},
   "outputs": [],
   "source": [
    "import matplotlib.pyplot as plt\n",
    "from matplotlib import rcParams\n",
    "#import matplotlib.mlab as mlab\n",
    "%matplotlib inline\n",
    "import numpy as np\n",
    "from numpy import transpose as tp\n",
    "from sympy import *\n",
    "from IPython.display import display, Latex\n"
   ]
  },
  {
   "cell_type": "markdown",
   "metadata": {},
   "source": [
    "The first step when dealing with symbolic mathematics in python is to close your python programm and instead open Mathematica."
   ]
  },
  {
   "cell_type": "markdown",
   "metadata": {},
   "source": [
    "a) First of all we will define the error propagation for uncorrelated variables. This is pretty straigthforward as we can determine the uncertainty using regular Gaussian error propagation for a functon $f(x_1, \\dots, x_n)$\n",
    "\n",
    "$$ \\sigma_f = \\sqrt{\\sum_{i = 1}^n \\left( \\dfrac{\\text{d} f}{\\text{d} x^i} \\cdot \\sigma_i\\right)^2 }. $$"
   ]
  },
  {
   "cell_type": "code",
   "execution_count": 2,
   "metadata": {},
   "outputs": [],
   "source": [
    "'''Examples from the FP Website'''\n",
    "\n",
    "# Error propagation from uncorrelated variables\n",
    "def error_prop(f, vars, rel = False):\n",
    "    \"\"\"\n",
    "    Symbolic Gaussian error propagation.\n",
    "    \n",
    "    Arguments:\n",
    "    f: formula (sympy expression)\n",
    "    vars: list of independent variables and corresponding uncertainties [(x1, sigma_x1), (x2, sigma_x2), ...]\n",
    "    \n",
    "    return value: sympy expression for the uncertainty of the calculated expression f\n",
    "    \n",
    "    \"\"\"\n",
    "    z = Symbol(str(f))\n",
    "    sum = S(0) # empty SymPy expression\n",
    "    for (x, sigma) in vars:\n",
    "        sum += diff(f, x)**2 * sigma**2 \n",
    "        \n",
    "    if rel == False:\n",
    "        display(Latex('${} = $'.format( '\\sigma_{' + str(z) + '}') ) ) \n",
    "        return sqrt(simplify(sum))\n",
    "    elif rel == True:\n",
    "        display(Latex('${} = $'.format( '\\dfrac{\\sigma_{' + str(z) + '}}{' + str(z) + '}') ) ) \n",
    "        return sqrt(simplify(sum)) / f\n",
    "\n",
    "# Error propagation for correlated variables\n",
    "def error_prop_corr(f, x, V, rel = False):\n",
    "    \"\"\"\n",
    "    f: function f = f(x[0], x[1], ...)\n",
    "    x: list of variables\n",
    "    V: covariance matrix (python 2d list)\n",
    "    \"\"\"\n",
    "    z = Symbol(str(f))\n",
    "    sum = S(0) # empty sympy expression\n",
    "    for i in range(len(x)):\n",
    "        for j in range(len(x)):\n",
    "            sum += diff(f, x[i]) * diff(f, x[j]) * V[i][j]\n",
    "    \n",
    "    if rel == False:\n",
    "        display(Latex('${} = $'.format( '\\sigma_{' + str(z) + '}') ) ) \n",
    "        return sqrt(simplify(sum))\n",
    "    elif rel == True:\n",
    "        display(Latex('${} = $'.format( '\\dfrac{\\sigma_{' + str(z) + '}}{' + str(z) + '}') ) ) \n",
    "        return sqrt(simplify(sum)) / f\n",
    "    "
   ]
  },
  {
   "cell_type": "markdown",
   "metadata": {},
   "source": [
    "The way this code works is, we first have to manually define our variables and uncertainties as symbols and also define a covariance matrix. We tried coding something that would generalize this process for more dimensions and work automatically, but we didn't come to a clean solution. This code works properly for a small number of variables, but it becomes very cumbersome for larger dimensions."
   ]
  },
  {
   "cell_type": "markdown",
   "metadata": {},
   "source": [
    "i) We find expressions for the absolute uncertainty $\\sigma_z$ for $z = x \\pm y$."
   ]
  },
  {
   "cell_type": "code",
   "execution_count": 3,
   "metadata": {},
   "outputs": [
    {
     "data": {
      "text/latex": [
       "$\\sigma_{x + y} = $"
      ],
      "text/plain": [
       "<IPython.core.display.Latex object>"
      ]
     },
     "metadata": {},
     "output_type": "display_data"
    },
    {
     "data": {
      "text/latex": [
       "$\\displaystyle \\sqrt{2 \\rho \\sigma_{x} \\sigma_{y} + \\sigma_{x}^{2} + \\sigma_{y}^{2}}$"
      ],
      "text/plain": [
       "sqrt(2*\\rho*\\sigma_x*\\sigma_y + \\sigma_x**2 + \\sigma_y**2)"
      ]
     },
     "execution_count": 3,
     "metadata": {},
     "output_type": "execute_result"
    }
   ],
   "source": [
    "# Define our variables and uncertainties\n",
    "x, y, sigma_x, sigma_y, rho = symbols(['x', 'y', '\\\\sigma_x', '\\\\sigma_y', '\\\\rho'])\n",
    "\n",
    "# Define covariance matrix\n",
    "C = np.array([[sigma_x ** 2, rho * sigma_x * sigma_y],\n",
    "              [rho * sigma_x * sigma_y, sigma_y ** 2]])\n",
    "\n",
    "# Define function f and vars\n",
    "z = x + y\n",
    "vars = [x, y]\n",
    "\n",
    "# Propagate\n",
    "error_prop_corr(z, vars, C)"
   ]
  },
  {
   "cell_type": "code",
   "execution_count": 4,
   "metadata": {},
   "outputs": [
    {
     "data": {
      "text/latex": [
       "$\\sigma_{x - y} = $"
      ],
      "text/plain": [
       "<IPython.core.display.Latex object>"
      ]
     },
     "metadata": {},
     "output_type": "display_data"
    },
    {
     "data": {
      "text/latex": [
       "$\\displaystyle \\sqrt{- 2 \\rho \\sigma_{x} \\sigma_{y} + \\sigma_{x}^{2} + \\sigma_{y}^{2}}$"
      ],
      "text/plain": [
       "sqrt(-2*\\rho*\\sigma_x*\\sigma_y + \\sigma_x**2 + \\sigma_y**2)"
      ]
     },
     "execution_count": 4,
     "metadata": {},
     "output_type": "execute_result"
    }
   ],
   "source": [
    "# Define new f\n",
    "z = x - y\n",
    "error_prop_corr(z, vars, C)"
   ]
  },
  {
   "cell_type": "markdown",
   "metadata": {},
   "source": [
    "ii) We now find expressions for the relative uncertainty $\\sigma_z / z$ for $z = x \\cdot y$, $z = x / y$ and $z = x^n y^n$. "
   ]
  },
  {
   "cell_type": "code",
   "execution_count": 5,
   "metadata": {},
   "outputs": [
    {
     "data": {
      "text/latex": [
       "$\\dfrac{\\sigma_{x*y}}{x*y} = $"
      ],
      "text/plain": [
       "<IPython.core.display.Latex object>"
      ]
     },
     "metadata": {},
     "output_type": "display_data"
    },
    {
     "data": {
      "text/latex": [
       "$\\displaystyle \\frac{\\sqrt{2 \\rho \\sigma_{x} \\sigma_{y} x y + \\sigma_{x}^{2} y^{2} + \\sigma_{y}^{2} x^{2}}}{x y}$"
      ],
      "text/plain": [
       "sqrt(2*\\rho*\\sigma_x*\\sigma_y*x*y + \\sigma_x**2*y**2 + \\sigma_y**2*x**2)/(x*y)"
      ]
     },
     "execution_count": 5,
     "metadata": {},
     "output_type": "execute_result"
    }
   ],
   "source": [
    "''' We proceed similarly to before. Since we're still dealing with two \n",
    "variables, we can keep the previous definitions'''\n",
    "\n",
    "# Define f\n",
    "z = x * y\n",
    "error_prop_corr(z, vars, C, rel = True)"
   ]
  },
  {
   "cell_type": "code",
   "execution_count": 6,
   "metadata": {},
   "outputs": [
    {
     "data": {
      "text/latex": [
       "$\\dfrac{\\sigma_{x/y}}{x/y} = $"
      ],
      "text/plain": [
       "<IPython.core.display.Latex object>"
      ]
     },
     "metadata": {},
     "output_type": "display_data"
    },
    {
     "data": {
      "text/latex": [
       "$\\displaystyle \\frac{y \\sqrt{\\frac{- 2 \\rho \\sigma_{x} \\sigma_{y} x y + \\sigma_{x}^{2} y^{2} + \\sigma_{y}^{2} x^{2}}{y^{4}}}}{x}$"
      ],
      "text/plain": [
       "y*sqrt((-2*\\rho*\\sigma_x*\\sigma_y*x*y + \\sigma_x**2*y**2 + \\sigma_y**2*x**2)/y**4)/x"
      ]
     },
     "execution_count": 6,
     "metadata": {},
     "output_type": "execute_result"
    }
   ],
   "source": [
    "z = x / y\n",
    "error_prop_corr(z, vars, C, rel = True)"
   ]
  },
  {
   "cell_type": "code",
   "execution_count": 7,
   "metadata": {},
   "outputs": [
    {
     "data": {
      "text/latex": [
       "$\\dfrac{\\sigma_{x**n*y**n}}{x**n*y**n} = $"
      ],
      "text/plain": [
       "<IPython.core.display.Latex object>"
      ]
     },
     "metadata": {},
     "output_type": "display_data"
    },
    {
     "data": {
      "text/latex": [
       "$\\displaystyle x^{- n} y^{- n} \\sqrt{n^{2} x^{2 n - 2} y^{2 n - 2} \\left(2 \\rho \\sigma_{x} \\sigma_{y} x y + \\sigma_{x}^{2} y^{2} + \\sigma_{y}^{2} x^{2}\\right)}$"
      ],
      "text/plain": [
       "sqrt(n**2*x**(2*n - 2)*y**(2*n - 2)*(2*\\rho*\\sigma_x*\\sigma_y*x*y + \\sigma_x**2*y**2 + \\sigma_y**2*x**2))/(x**n*y**n)"
      ]
     },
     "execution_count": 7,
     "metadata": {},
     "output_type": "execute_result"
    }
   ],
   "source": [
    "n = Symbol('n')\n",
    "z = x ** n * y ** n\n",
    "error_prop_corr(z, vars, C, rel = True)"
   ]
  },
  {
   "cell_type": "markdown",
   "metadata": {},
   "source": [
    "iii) The errors for the acceleration of gravity in a simple pendulum with $g = 4 \\pi^2 \\dfrac{L}{T^2}$"
   ]
  },
  {
   "cell_type": "code",
   "execution_count": 8,
   "metadata": {},
   "outputs": [
    {
     "data": {
      "text/latex": [
       "$\\sigma_{4*pi**2*L/T**2} = $"
      ],
      "text/plain": [
       "<IPython.core.display.Latex object>"
      ]
     },
     "metadata": {},
     "output_type": "display_data"
    },
    {
     "data": {
      "text/latex": [
       "$\\displaystyle 4 \\pi^{2} \\sqrt{\\frac{4 L^{2} \\sigma_{T}^{2} - 4 L T \\rho \\sigma_{L} \\sigma_{T} + T^{2} \\sigma_{L}^{2}}{T^{6}}}$"
      ],
      "text/plain": [
       "4*pi**2*sqrt((4*L**2*\\sigma_T**2 - 4*L*T*\\rho*\\sigma_L*\\sigma_T + T**2*\\sigma_L**2)/T**6)"
      ]
     },
     "execution_count": 8,
     "metadata": {},
     "output_type": "execute_result"
    }
   ],
   "source": [
    "# Define variables\n",
    "L, T, sigma_L, sigma_T, rho = symbols(['L', 'T', '\\\\sigma_L', '\\\\sigma_T', '\\\\rho'])\n",
    "C = np.array([[sigma_L ** 2, rho * sigma_L * sigma_T],\n",
    "              [rho * sigma_L * sigma_T, sigma_T ** 2]])\n",
    "\n",
    "g = 4 * pi ** 2 * L / (T ** 2)\n",
    "vars = [L, T]\n",
    "\n",
    "error_prop_corr(g, vars, C)"
   ]
  },
  {
   "cell_type": "code",
   "execution_count": 9,
   "metadata": {},
   "outputs": [
    {
     "data": {
      "text/latex": [
       "$\\dfrac{\\sigma_{4*pi**2*L/T**2}}{4*pi**2*L/T**2} = $"
      ],
      "text/plain": [
       "<IPython.core.display.Latex object>"
      ]
     },
     "metadata": {},
     "output_type": "display_data"
    },
    {
     "data": {
      "text/latex": [
       "$\\displaystyle \\frac{T^{2} \\sqrt{\\frac{4 L^{2} \\sigma_{T}^{2} - 4 L T \\rho \\sigma_{L} \\sigma_{T} + T^{2} \\sigma_{L}^{2}}{T^{6}}}}{L}$"
      ],
      "text/plain": [
       "T**2*sqrt((4*L**2*\\sigma_T**2 - 4*L*T*\\rho*\\sigma_L*\\sigma_T + T**2*\\sigma_L**2)/T**6)/L"
      ]
     },
     "execution_count": 9,
     "metadata": {},
     "output_type": "execute_result"
    }
   ],
   "source": [
    "error_prop_corr(g, vars, C, rel = True)"
   ]
  },
  {
   "cell_type": "markdown",
   "metadata": {},
   "source": [
    "b) Now we consider a cylinder of radius $r = 2\\, \\mathrm{cm}$ and height $h = 3\\, \\mathrm{cm}$ each with an uncertainty of $\\sigma = 0.05\\, \\mathrm{cm}$. We determine the uncertainty of the volume $V = \\pi r^2 h$ assuming that i) both values are uncorrelated and ii) both values are fully correlated, i.e. $\\rho = 1$. For this, we can proceed analogously to the previous task, and then input real values for our defined symbols:"
   ]
  },
  {
   "cell_type": "markdown",
   "metadata": {},
   "source": [
    "i) For the case where the variables are uncorrelated:"
   ]
  },
  {
   "cell_type": "code",
   "execution_count": 10,
   "metadata": {},
   "outputs": [
    {
     "data": {
      "text/latex": [
       "$\\sigma_{pi*h*r**2} = $"
      ],
      "text/plain": [
       "<IPython.core.display.Latex object>"
      ]
     },
     "metadata": {},
     "output_type": "display_data"
    },
    {
     "data": {
      "text/latex": [
       "$\\displaystyle \\pi \\sqrt{\\sigma^{2} r^{2} \\left(4 \\rho h r + 4 h^{2} + r^{2}\\right)}$"
      ],
      "text/plain": [
       "pi*sqrt(\\sigma**2*r**2*(4*\\rho*h*r + 4*h**2 + r**2))"
      ]
     },
     "execution_count": 10,
     "metadata": {},
     "output_type": "execute_result"
    }
   ],
   "source": [
    "# Define our variables and uncertainties\n",
    "r, h, sigma, rho = symbols(['r', 'h', '\\\\sigma', '\\\\rho'])\n",
    "\n",
    "# Define covariance matrix\n",
    "C = np.array([[sigma ** 2, rho * sigma * sigma],\n",
    "              [rho * sigma * sigma, sigma ** 2]])\n",
    "\n",
    "# Define function f and vars\n",
    "V = pi * r ** 2 * h\n",
    "vars = [r, h]\n",
    "\n",
    "# Propagate\n",
    "error_prop_corr(V, vars, C)"
   ]
  },
  {
   "cell_type": "code",
   "execution_count": 11,
   "metadata": {},
   "outputs": [
    {
     "data": {
      "text/latex": [
       "$\\sigma_{pi*h*r**2} = $"
      ],
      "text/plain": [
       "<IPython.core.display.Latex object>"
      ]
     },
     "metadata": {},
     "output_type": "display_data"
    },
    {
     "data": {
      "text/latex": [
       "$V = 37.7 \\pm 2.00000000000000$"
      ],
      "text/plain": [
       "<IPython.core.display.Latex object>"
      ]
     },
     "metadata": {},
     "output_type": "display_data"
    }
   ],
   "source": [
    "sigma_V = error_prop_corr(V, vars, C).subs([(r, 2), (h, 3), \n",
    "                                            (sigma, 0.05), \n",
    "                                            (rho, 0)])\n",
    "# Ignore the sigma display :)\n",
    "val_V = V.subs([(r, 2), (h, 3)])\n",
    "\n",
    "display(Latex('$V = {} \\pm {}$'.format(val_V.round(1), sigma_V.round(1))))"
   ]
  },
  {
   "cell_type": "markdown",
   "metadata": {},
   "source": [
    "ii) Fully correlated"
   ]
  },
  {
   "cell_type": "code",
   "execution_count": 12,
   "metadata": {},
   "outputs": [
    {
     "data": {
      "text/latex": [
       "$\\sigma_{pi*h*r**2} = $"
      ],
      "text/plain": [
       "<IPython.core.display.Latex object>"
      ]
     },
     "metadata": {},
     "output_type": "display_data"
    },
    {
     "data": {
      "text/latex": [
       "$V = (37.7 \\pm 2.5)$ cm$^3$"
      ],
      "text/plain": [
       "<IPython.core.display.Latex object>"
      ]
     },
     "metadata": {},
     "output_type": "display_data"
    }
   ],
   "source": [
    "sigma_V = error_prop_corr(V, vars, C).subs([(r, 2), (h, 3), \n",
    "                                            (sigma, 0.05), \n",
    "                                            (rho, 1)])\n",
    "# Ignore the sigma display :)\n",
    "val_V = V.subs([(r, 2), (h, 3)])\n",
    "\n",
    "display(Latex('$V = ({} \\pm {})$ cm$^3$'.format(val_V.round(1), sigma_V.round(1))))"
   ]
  },
  {
   "cell_type": "markdown",
   "metadata": {},
   "source": [
    "c) Now we'll deal with the case where we have two uncorrelated variables $x, y$ with corresponding covariance matrix $\\textbf{C}$ and then we perform a coordinate transformation and analyze how we can find the covariance matrix and the errors afterwards. We have\n",
    "\n",
    "$$ r = \\sqrt{x^2 + y^2} \\ \\ \\ \\ \\ \\ \\ \\ \\ \\ \\theta = \\mathrm{atan2}(x, y) = \\arctan{\\dfrac{y}{x}} $$.\n",
    "\n",
    "We now want to find the covariance matrix of $r, \\theta$, $\\textbf{E}$. Per the script, this can be done as\n",
    "\n",
    "$$ \\textbf{E} = \\textbf{G} \\cdot \\textbf{C} \\cdot \\textbf{G}^T $$\n",
    "\n",
    "with the transformation matrix $\\textbf{G}$ defined as\n",
    "\n",
    "$$ \\textbf{G}_{ij} = \\dfrac{\\partial f_i}{\\partial x_j} $$ for the functions $f_{i} \\in \\{r(x, y),\\, \\theta(x, y)\\}$."
   ]
  },
  {
   "cell_type": "code",
   "execution_count": 13,
   "metadata": {},
   "outputs": [
    {
     "data": {
      "text/latex": [
       "$\\displaystyle \\left[\\begin{matrix}\\frac{\\sigma_{x} x \\left(\\rho \\sigma_{y} y + \\sigma_{x} x\\right) + \\sigma_{y} y \\left(\\rho \\sigma_{x} x + \\sigma_{y} y\\right)}{x^{2} + y^{2}} & \\frac{- \\sigma_{x} y \\left(\\rho \\sigma_{y} y + \\sigma_{x} x\\right) + \\sigma_{y} x \\left(\\rho \\sigma_{x} x + \\sigma_{y} y\\right)}{\\left(x^{2} + y^{2}\\right)^{\\frac{3}{2}}}\\\\\\frac{\\sigma_{x} x \\left(\\rho \\sigma_{y} x - \\sigma_{x} y\\right) - \\sigma_{y} y \\left(\\rho \\sigma_{x} y - \\sigma_{y} x\\right)}{\\left(x^{2} + y^{2}\\right)^{\\frac{3}{2}}} & - \\frac{\\sigma_{x} y \\left(\\rho \\sigma_{y} x - \\sigma_{x} y\\right) + \\sigma_{y} x \\left(\\rho \\sigma_{x} y - \\sigma_{y} x\\right)}{\\left(x^{2} + y^{2}\\right)^{2}}\\end{matrix}\\right]$"
      ],
      "text/plain": [
       "Matrix([\n",
       "[       (\\sigma_x*x*(\\rho*\\sigma_y*y + \\sigma_x*x) + \\sigma_y*y*(\\rho*\\sigma_x*x + \\sigma_y*y))/(x**2 + y**2), (-\\sigma_x*y*(\\rho*\\sigma_y*y + \\sigma_x*x) + \\sigma_y*x*(\\rho*\\sigma_x*x + \\sigma_y*y))/(x**2 + y**2)**(3/2)],\n",
       "[(\\sigma_x*x*(\\rho*\\sigma_y*x - \\sigma_x*y) - \\sigma_y*y*(\\rho*\\sigma_x*y - \\sigma_y*x))/(x**2 + y**2)**(3/2),     -(\\sigma_x*y*(\\rho*\\sigma_y*x - \\sigma_x*y) + \\sigma_y*x*(\\rho*\\sigma_x*y - \\sigma_y*x))/(x**2 + y**2)**2]])"
      ]
     },
     "execution_count": 13,
     "metadata": {},
     "output_type": "execute_result"
    }
   ],
   "source": [
    "# We define our variables\n",
    "r, theta, x, y, sig_r, sig_theta, sig_x, sig_y = symbols(['r', '\\\\theta', 'x',\n",
    "                                                          'y', '\\\\sigma_r', \n",
    "                                                         '\\\\sigma_\\\\theta',\n",
    "                                                         '\\\\sigma_x', \n",
    "                                                          '\\\\sigma_y'])\n",
    "rho = Symbol('\\\\rho')\n",
    "\n",
    "C = np.array([[sig_x ** 2, rho * sig_x * sig_y], \n",
    "             [rho * sig_x * sig_y, sig_y ** 2]])\n",
    "\n",
    "# And our functions\n",
    "r = sqrt(x ** 2 + y ** 2)\n",
    "theta = atan2(y, x)\n",
    "f = Matrix([r, theta])\n",
    "X = Matrix([x, y])\n",
    "\n",
    "# We define a function to transform the covariance matrix\n",
    "def cov_transform(f, vars, C):\n",
    "    ''' In this format, we need to input both the function f and the \n",
    "    variables as a Matrix()\n",
    "    '''\n",
    "    # First determine Jacobi matrix of f\n",
    "    G = f.jacobian(vars)\n",
    "    # Next we transform\n",
    "    return simplify(G * C * G.transpose())\n",
    "\n",
    "cov_transform(f, X, C)"
   ]
  },
  {
   "cell_type": "markdown",
   "metadata": {},
   "source": [
    "For the case where $x, y$ are uncorrelated, i.e. $\\rho = 0$ we can evaluate the previously determined matrix:"
   ]
  },
  {
   "cell_type": "code",
   "execution_count": 14,
   "metadata": {},
   "outputs": [
    {
     "data": {
      "text/latex": [
       "$\\displaystyle \\left[\\begin{matrix}\\frac{\\sigma_{x}^{2} x^{2} + \\sigma_{y}^{2} y^{2}}{x^{2} + y^{2}} & \\frac{- \\sigma_{x}^{2} x y + \\sigma_{y}^{2} x y}{\\left(x^{2} + y^{2}\\right)^{\\frac{3}{2}}}\\\\\\frac{- \\sigma_{x}^{2} x y + \\sigma_{y}^{2} x y}{\\left(x^{2} + y^{2}\\right)^{\\frac{3}{2}}} & - \\frac{- \\sigma_{x}^{2} y^{2} - \\sigma_{y}^{2} x^{2}}{\\left(x^{2} + y^{2}\\right)^{2}}\\end{matrix}\\right]$"
      ],
      "text/plain": [
       "Matrix([\n",
       "[      (\\sigma_x**2*x**2 + \\sigma_y**2*y**2)/(x**2 + y**2), (-\\sigma_x**2*x*y + \\sigma_y**2*x*y)/(x**2 + y**2)**(3/2)],\n",
       "[(-\\sigma_x**2*x*y + \\sigma_y**2*x*y)/(x**2 + y**2)**(3/2),  -(-\\sigma_x**2*y**2 - \\sigma_y**2*x**2)/(x**2 + y**2)**2]])"
      ]
     },
     "execution_count": 14,
     "metadata": {},
     "output_type": "execute_result"
    }
   ],
   "source": [
    "cov_transform(f, X, C).subs(rho, 0)"
   ]
  },
  {
   "cell_type": "markdown",
   "metadata": {},
   "source": [
    "This has non vanishing off-diagonal components due to the fact that $r, \\theta$ are functions of $x, y$ and are therefore correlated."
   ]
  },
  {
   "cell_type": "code",
   "execution_count": null,
   "metadata": {},
   "outputs": [],
   "source": []
  }
 ],
 "metadata": {
  "kernelspec": {
   "display_name": "Python 3",
   "language": "python",
   "name": "python3"
  },
  "language_info": {
   "codemirror_mode": {
    "name": "ipython",
    "version": 3
   },
   "file_extension": ".py",
   "mimetype": "text/x-python",
   "name": "python",
   "nbconvert_exporter": "python",
   "pygments_lexer": "ipython3",
   "version": "3.7.3"
  }
 },
 "nbformat": 4,
 "nbformat_minor": 4
}
