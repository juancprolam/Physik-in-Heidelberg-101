{
 "cells": [
  {
   "cell_type": "markdown",
   "id": "512229c3-9244-474c-b0a6-34e443ec3a39",
   "metadata": {},
   "source": [
    "IX: Auswertung\n",
    "==="
   ]
  },
  {
   "cell_type": "code",
   "execution_count": 2,
   "id": "f1dcce82-6bde-43fa-a2a2-cc9d89c380e4",
   "metadata": {},
   "outputs": [],
   "source": [
    "import matplotlib.pyplot as plt\n",
    "%matplotlib inline\n",
    "import numpy as np\n",
    "from numpy import exp, sqrt, log\n",
    "from scipy.optimize import curve_fit\n",
    "from scipy.optimize import curve_fit\n",
    "from scipy.stats import chi2"
   ]
  },
  {
   "cell_type": "markdown",
   "id": "19674958-d497-4d4d-925b-dbaa089c82f9",
   "metadata": {},
   "source": [
    "1 Bestimmung der Zeitkonstante des RC-Glieds\n",
    "----"
   ]
  },
  {
   "cell_type": "code",
   "execution_count": 3,
   "id": "1ca20f37-05d9-4066-b20a-4a7cffcccb8e",
   "metadata": {},
   "outputs": [
    {
     "name": "stdout",
     "output_type": "stream",
     "text": [
      "Experimentelle Zeitkonstante:\n",
      "tau_exp = [ 62.  548.2  60.6]\n",
      "      +/- [ 1.4 14.4  1.4]\n",
      "Theoretische Zeitkonstante:\n",
      "tau_theo = [ 47. 470.  47.]\n",
      "       +/- [ 5. 53.  5.]\n"
     ]
    }
   ],
   "source": [
    "# Tabelle 1\n",
    "C_1 = np.array([47, 470, 4.7]) # 10^-9 F\n",
    "sig_C_1 = 0.1 * C_1\n",
    "R_1 = np.array([1, 1, 10]) # 10^3 Ohm\n",
    "sig_R_1 = 0.05 * R_1\n",
    "T_12_1 = np.array([43, 380, 42]) # 10^-6 s\n",
    "sig_T_12_1 = np.array([1, 10, 1]) # 10^-6 s\n",
    "\n",
    "T_12_vert = 42 # 10^-6 s\n",
    "sig_T_12_vert = 1 \n",
    "\n",
    "# Experimentelle Zeitkonstante:\n",
    "tau_1 = T_12_1 / log(2)\n",
    "sig_tau_1 = sig_T_12_1 / log(2)\n",
    "\n",
    "# Theoretische Zeitkonstante:\n",
    "tau_theo_1 = C_1 * R_1\n",
    "sig_tau_theo_1 = sqrt( (sig_C_1 * R_1) ** 2 + (C_1 * sig_R_1) ** 2)\n",
    "\n",
    "print('Experimentelle Zeitkonstante:')\n",
    "print('tau_exp =', np.round(tau_1,1))\n",
    "print('      +/-', np.round(sig_tau_1,1))\n",
    "print('Theoretische Zeitkonstante:')\n",
    "print('tau_theo =', tau_theo_1)\n",
    "print('       +/-', np.round(sig_tau_theo_1,0))"
   ]
  },
  {
   "cell_type": "markdown",
   "id": "0b37bbae-8f20-48d8-b588-7cb768008025",
   "metadata": {},
   "source": [
    "3 Frequenz- und Phasengang eines RC-Glieds\n",
    "---"
   ]
  },
  {
   "cell_type": "code",
   "execution_count": 4,
   "id": "fb037f05-6a42-41bb-93f8-e2687bd9ad8c",
   "metadata": {},
   "outputs": [
    {
     "data": {
      "image/png": "[encoded data removed]",
      "text/plain": [
       "<Figure size 864x504 with 1 Axes>"
      ]
     },
     "metadata": {
      "needs_background": "light"
     },
     "output_type": "display_data"
    }
   ],
   "source": [
    "# Tabelle 2\n",
    "f_2 = np.arange(1,11,1) # 10^3 Hz\n",
    "D_t_2 = np.array([200, 80, 40, 28, 20, 13, 11, 9, 8.2, 5.4])\n",
    "sig_D_t_2 = np.array([10, 10, 1, 1, 1, 0.1, 0.1, 0.1, 0.1, 0.1])\n",
    "phi_2 = 360 * f_2 * D_t_2 / 1000\n",
    "sig_phi_2 = 360 * f_2 * sig_D_t_2 / 1000\n",
    "\n",
    "# Fit\n",
    "def arctan(f, f_g):\n",
    "    return np.arctan(f_g / f) * (360 / (2 * np.pi)) # f_g ist Grenzfrequenz\n",
    "\n",
    "popt, pcov = curve_fit(arctan, f_2, phi_2, sigma = sig_phi_2)\n",
    "x = np.arange(1,10,0.01)\n",
    "\n",
    "# Plot\n",
    "plt.figure(figsize = (12, 7))\n",
    "plt.errorbar(f_2, phi_2, yerr = sig_phi_2, fmt = '.', capsize = 2, \n",
    "             label = 'Messwerte')\n",
    "plt.plot(x, arctan(x, *popt), label = 'Bester Fit')\n",
    "plt.title('Phasengang', size = 16)\n",
    "plt.xlabel('Frequenz $f$ [kHz]', size = 14)\n",
    "plt.ylabel('Phase $\\\\phi$ [$^\\circ$]', size = 14)\n",
    "plt.text(1, exp(3.9), 'Fitparameter:')\n",
    "plt.text(1, exp(3.8), '$f_g =$' + str(np.round(popt[0],2)) \n",
    "         + '$\\pm$' + str(np.round(sqrt(pcov[0,0]),2)))\n",
    "plt.xscale('log')\n",
    "\n",
    "plt.legend(loc ='best')\n",
    "plt.savefig('images/241/V241Diagramm1.png')\n",
    "plt.show()"
   ]
  },
  {
   "cell_type": "code",
   "execution_count": 5,
   "id": "d129c30c-f531-4655-93d0-1c6a4d156396",
   "metadata": {},
   "outputs": [
    {
     "name": "stdout",
     "output_type": "stream",
     "text": [
      "Grenzfrequenz f_g = 3.57 +/- 0.14\n"
     ]
    }
   ],
   "source": [
    "fg = popt[0]\n",
    "sig_fg = sqrt(pcov[0,0])\n",
    "print('Grenzfrequenz f_g =',np.round(fg,2), '+/-', np.round(sig_fg,2))"
   ]
  },
  {
   "cell_type": "code",
   "execution_count": 6,
   "id": "0f7a9dfb-2d66-43e4-a6a4-5a280e6cccd9",
   "metadata": {},
   "outputs": [
    {
     "name": "stdout",
     "output_type": "stream",
     "text": [
      "chi2 = 475.8161605269691\n",
      "chi2_red = 52.868462280774345\n",
      "Wahrscheinlichkeit = 0.0 %\n"
     ]
    }
   ],
   "source": [
    "# Güte des Fits\n",
    "chi2_= np.sum((arctan(f_2, *popt) - phi_2) ** 2 / sig_phi_2 ** 2) \n",
    "dof = len(phi_2) - 1 #dof:degrees of freedom, Freiheitsgrad \n",
    "chi2_red = chi2_/dof\n",
    "\n",
    "print(\"chi2 =\", chi2_)\n",
    "print(\"chi2_red =\",chi2_red)\n",
    "\n",
    "prob = np.round(1 - chi2.cdf(chi2_,dof),2) * 100 \n",
    "print(\"Wahrscheinlichkeit =\", prob, \"%\")"
   ]
  },
  {
   "cell_type": "code",
   "execution_count": 7,
   "id": "fd1fb6b2-ceea-4997-a653-6dbd5654acda",
   "metadata": {},
   "outputs": [],
   "source": [
    "# Güte des Fits Muster\n",
    "#chi2_= np.sum((fit_func(x, *popt) - y) ** 2 / sig_y ** 2) \n",
    "#dof = len(y) - n #dof:degrees of freedom, Freiheitsgrad \n",
    "#chi2_red = chi2_/dof\n",
    "\n",
    "#print(\"chi2 =\", chi2_)\n",
    "#print(\"chi2_red =\",chi2_red)\n",
    "\n",
    "#prob = np.round(1 - chi2.cdf(chi2_,dof),2) * 100 \n",
    "#print(\"Wahrscheinlichkeit =\", prob, \"%\")"
   ]
  },
  {
   "cell_type": "markdown",
   "id": "6b26d26f-8d13-47e0-bc29-0b5b01194c80",
   "metadata": {},
   "source": [
    "4 Frequenzgang eines Serienschwingkreises\n",
    "---"
   ]
  },
  {
   "cell_type": "markdown",
   "id": "85d9f688-14e4-4b0b-8f62-88e2d23e5c2b",
   "metadata": {},
   "source": [
    "Induktivität"
   ]
  },
  {
   "cell_type": "code",
   "execution_count": 8,
   "id": "ca2361df-2ad7-4c18-b78f-0e17c98c967d",
   "metadata": {},
   "outputs": [
    {
     "name": "stdout",
     "output_type": "stream",
     "text": [
      "Induktivität:\n",
      "L = [0.035 0.038 0.039]\n",
      "+/- [0.004 0.004 0.004]\n",
      "L_mean = 0.037318738 +/- 0.000994435\n"
     ]
    }
   ],
   "source": [
    "R_4 = np.array([1000, 220, 47]) # Ohm\n",
    "sig_R_4 = 0.05 * R_4\n",
    "f_R_4 = np.array([3.93, 3.75, 3.73]) # kHz\n",
    "sig_f_R_4 = 0.1 * np.ones(3)\n",
    "Delta_f = np.array([4.76, 1.33, 0.67]) # kHz\n",
    "sig_Delta_f = np.array([0.2, 0.1, 0.05])\n",
    "C_4 = 47 # nF\n",
    "sig_C_4 = 5\n",
    "\n",
    "L = 1e3 / ((2 * np.pi * f_R_4) ** 2 * C_4) # H\n",
    "sig_L = 1e3 / (2 * np.pi) ** 2 * sqrt((sig_f_R_4 / (f_R_4 ** 3 * C_4)) ** 2 \n",
    "                                    + (sig_C_4 / (f_R_4 ** 2 * C_4 ** 2)) ** 2)\n",
    "L_mean = np.mean(L)\n",
    "sig_L_mean = 1 / sqrt(3) * np.std(L)\n",
    "\n",
    "print('Induktivität:')\n",
    "print('L =', np.round(L,3))\n",
    "print('+/-', np.round(sig_L,3))\n",
    "print('L_mean =', np.round(L_mean,9), '+/-', np.round(sig_L_mean,9))"
   ]
  },
  {
   "cell_type": "markdown",
   "id": "74cb5a35-a23a-48c5-9cab-3e7293361bb2",
   "metadata": {},
   "source": [
    "Verlustwiderstand"
   ]
  },
  {
   "cell_type": "code",
   "execution_count": 9,
   "id": "7e6e8936-712f-48fe-91f3-ec7f9eb90794",
   "metadata": {},
   "outputs": [
    {
     "name": "stdout",
     "output_type": "stream",
     "text": [
      "Gesamtwiderstand:\n",
      "R + R_V = [1044.  320.  163.]\n",
      "      +/- [122.  43.  22.]\n",
      "Verlustwiderstand:\n",
      "R_V = [ 40. 100. 120.]\n",
      "  +/- [130.  40.  20.]\n"
     ]
    }
   ],
   "source": [
    "# Mit Bandbreite und Induktivität\n",
    "RR_V = 2 * np.pi * Delta_f * L * 1e3 # Ohm\n",
    "R_V = RR_V - R_4\n",
    "sig_RR_V = sqrt( (2 * np.pi * sig_Delta_f * L) ** 2 \n",
    "                + (2 * np.pi * Delta_f * sig_L) ** 2 ) * 1e3 \n",
    "sig_R_V = sqrt(sig_RR_V ** 2 + sig_R_4 ** 2)\n",
    "\n",
    "print('Gesamtwiderstand:')\n",
    "print('R + R_V =', np.round(RR_V,0))\n",
    "print('      +/-', np.round(sig_RR_V,0))\n",
    "print('Verlustwiderstand:') \n",
    "print('R_V =', np.round(R_V,-1))\n",
    "print('  +/-', np.round(sig_R_V,-1))"
   ]
  },
  {
   "cell_type": "code",
   "execution_count": 10,
   "id": "3749f328-54c4-46d8-b0a9-6b12b07ac360",
   "metadata": {},
   "outputs": [
    {
     "name": "stdout",
     "output_type": "stream",
     "text": [
      "Verlustwiderstand:\n",
      "R_V = [64. 81. 95.]\n",
      "  +/- [3. 4. 5.]\n"
     ]
    }
   ],
   "source": [
    "# Mit Eingang- und Ausgangsspannung\n",
    "U_A = np.array([0.94, 0.73, 0.33]) # V\n",
    "U_E = 1 # V\n",
    "\n",
    "R_V_2 = R_4 * (U_E / U_A - 1)\n",
    "sig_R_V_2 = sqrt( (sig_R_4 * (U_E / U_A - 1)) ** 2 )\n",
    "print('Verlustwiderstand:')\n",
    "print('R_V =', np.round(R_V_2,0))\n",
    "print('  +/-', np.round(sig_R_V_2,0))"
   ]
  },
  {
   "cell_type": "markdown",
   "id": "ad118f9e-5b0b-4ce1-b82b-827f07e80aac",
   "metadata": {},
   "source": [
    "5 Bestimmung der Dämpfungskonstante\n",
    "----"
   ]
  },
  {
   "cell_type": "code",
   "execution_count": 11,
   "id": "46cd3c58-1e69-4e4f-8d79-2e3e78eacec6",
   "metadata": {},
   "outputs": [
    {
     "name": "stdout",
     "output_type": "stream",
     "text": [
      "Die Induktivität der Spule beträgt\n",
      "L = 0.0387 +/- 0.0046\n"
     ]
    }
   ],
   "source": [
    "# Induktivität\n",
    "C_5 = 47 #nF\n",
    "sig_C_5 = 5\n",
    "w_R = 2 * np.pi * f_R_4[2] # Grenzfrequenz aus 4\n",
    "sig_w_R = 2 * np.pi * sig_f_R_4[2]\n",
    "\n",
    "L_5 = 1 / (w_R ** 2 * C_5) * 1e3\n",
    "sig_L_5 = 1e3 * sqrt( (2 * sig_w_R / ((w_R ** 3) * C_5)) ** 2 + (sig_C_5 / (w_R ** 2 * C_5 ** 2)) ** 2 )\n",
    "print('Die Induktivität der Spule beträgt')\n",
    "print('L =', np.round(L_5,4), '+/-', np.round(sig_L_5,4)) # 10^3 H"
   ]
  },
  {
   "cell_type": "code",
   "execution_count": 12,
   "id": "a16dcd98-28c7-4b05-bb8a-37eee834951e",
   "metadata": {},
   "outputs": [
    {
     "name": "stdout",
     "output_type": "stream",
     "text": [
      "Das logarithmische Dekrement beträgt:\n",
      "Lambda = 0.38 +/- 0.07\n"
     ]
    }
   ],
   "source": [
    "# Werte Tabelle 4\n",
    "A = np.array([1.86, 1.22, 0.84, 0.58, 0.41])\n",
    "sig_A = np.array([.1, .1, .1, .1, .05])\n",
    "D_A = np.array([1.86 - 1.22, 1.22 - 0.84, 0.84 - 0.58, 0.58 - 0.41])\n",
    "\n",
    "# Logarithmisches Dekrement\n",
    "Lambda_list = np.array([])\n",
    "sig_Lambda = np.array([])\n",
    "for i in range(4):\n",
    "    Lambda_list = np.append(Lambda_list, log(A[i] / A[i+1]))\n",
    "    sig_Lambda_list = np.append(sig_Lambda, sqrt((sig_A[i] / A[i]) ** 2 \n",
    "                                            + (sig_A[i+1] / A[i+1]) ** 2))\n",
    "# Sag hallo, falls du dir das eigentlich antust und den code liest lol\n",
    "Lambda = np.mean(Lambda_list)\n",
    "sig_Lambda = 1 / 3 * sqrt(np.sum(sig_Lambda_list ** 2)) # Gauss\n",
    "std_Lambda = np.std(Lambda) / np.sqrt(len(Lambda_list)) # Standardabweichung\n",
    "Lambda_err = sqrt(sig_Lambda ** 2 + std_Lambda ** 2) # Gesamtfehler\n",
    "print('Das logarithmische Dekrement beträgt:')\n",
    "print('Lambda = ' + str(np.round(Lambda,2)) + ' +/- ' \n",
    "      + str(np.round(sig_Lambda,2)))"
   ]
  },
  {
   "cell_type": "code",
   "execution_count": 13,
   "id": "3c3065da-b53f-4e64-8b3b-d6df5130c81f",
   "metadata": {},
   "outputs": [
    {
     "name": "stdout",
     "output_type": "stream",
     "text": [
      "Gesamtwiderstand:\n",
      "R_ges = 109.0 +/- 21.0\n",
      "Verlustwiderstand:\n",
      "R_V = 62.0 +/- 21.0\n"
     ]
    }
   ],
   "source": [
    "# Gesamtwiderstand\n",
    "R_5 = 47 # Ohm\n",
    "sig_R_5 = 2.4\n",
    "R_ges = 2 * Lambda * L_5 * f_R_4[2] * 1e3 # Ohm\n",
    "sig_R_ges = sqrt((2 * Lambda_err * L_5 * f_R_4[2]) ** 2 \n",
    "                 + (2 * Lambda * sig_L_5) ** 2) * 1e3\n",
    "R_V_5 = R_ges - R_5\n",
    "sig_R_V_5 = sqrt(sig_R_ges ** 2 + sig_R_5 ** 2)\n",
    "\n",
    "\n",
    "\n",
    "print('Gesamtwiderstand:')\n",
    "print('R_ges =', np.round(R_ges, 0), '+/-', np.round(sig_R_ges, 0))\n",
    "print('Verlustwiderstand:')\n",
    "print('R_V =', np.round(R_V_5, 0), '+/-', np.round(sig_R_V_5, 0))"
   ]
  },
  {
   "cell_type": "code",
   "execution_count": 14,
   "id": "0c2d3a4e-2940-4e98-a58a-3f88d8034fd7",
   "metadata": {},
   "outputs": [
    {
     "name": "stdout",
     "output_type": "stream",
     "text": [
      "Dämpfungskonstante:\n",
      "delta =  1410.0 +/- 270.0\n"
     ]
    }
   ],
   "source": [
    "# Dämpfungskonstante\n",
    "delta = R_ges / (2 * L_5) # Hz\n",
    "sig_delta = sqrt( (sig_R_ges / (2 * L_5)) ** 2 \n",
    "                 + (R_ges * sig_L_5 / (2 * L_5) ) ** 2)\n",
    "\n",
    "print('Dämpfungskonstante:')\n",
    "print('delta = ', np.round(delta,-1),'+/-', np.round(sig_delta,-1))"
   ]
  },
  {
   "cell_type": "markdown",
   "id": "a24feb76-ea44-486f-92ab-28f27b60f4ff",
   "metadata": {},
   "source": [
    "6 Resonanzüberhöhung\n",
    "---"
   ]
  },
  {
   "cell_type": "code",
   "execution_count": 47,
   "id": "fc961cf6-bdf8-47cb-88a7-d1a77e5c813d",
   "metadata": {},
   "outputs": [
    {
     "name": "stdout",
     "output_type": "stream",
     "text": [
      "Theoretische Kreisgrenzfrequenz:\n",
      "omega_R_theo = 23.44 +/- 0.02\n",
      "omega_C_theo = 21.81 +/- 0.17\n",
      "omega_L_theo = 24.96 +/- 0.15\n"
     ]
    }
   ],
   "source": [
    "# omega_R\n",
    "omega_R_theo = 1 / sqrt(L_5 * C_5) * 1e3 * sqrt(10) * 10e-3 #sqrt(H nF)^-1 = 10^3 sqrt(10) Hz\n",
    "\n",
    "sig_omega_R_theo = omega_R_theo * sqrt((0.5 * sig_C_5 / C_5) ** 2 \n",
    "                                      + (0.5 * sig_L_5 / L_5) ** 2) * 10e-3\n",
    "\n",
    "\n",
    "# omega_C\n",
    "delta_C = R_4[2] / (2 * L_5) * 10e-3\n",
    "sig_delta_C = sqrt( (sig_R_4[2] / (2 * L_5)) ** 2 \n",
    "                   + (R_4[2] * sig_L_5 / (2 * L_5) ) ** 2) * 10e-3\n",
    "\n",
    "omega_C_theo = sqrt(omega_R_theo ** 2 - 2 * delta_C ** 2)\n",
    "sig_omega_C_theo = 1 / sqrt(omega_R_theo ** 2 - 2 * delta_C ** 2)* sqrt( \n",
    "    (omega_R_theo * sig_omega_R_theo) ** 2 \n",
    "    + (2 * delta_C * sig_delta_C) ** 2)\n",
    "\n",
    "# omega_L\n",
    "omega_L_theo = sqrt(omega_R_theo ** 2 + 2 * delta_C ** 2)\n",
    "sig_omega_L_theo = 1 / sqrt(omega_R_theo ** 2 + 2 * delta_C ** 2)* sqrt( \n",
    "    (omega_R_theo * sig_omega_R_theo) ** 2 \n",
    "    + (2 * delta_C * sig_delta_C) ** 2)\n",
    "\n",
    "print('Theoretische Kreisgrenzfrequenz:')\n",
    "print('omega_R_theo =', np.round(omega_R_theo,2), '+/-', \n",
    "      np.round(sig_omega_R_theo,2))\n",
    "print('omega_C_theo =', np.round(omega_C_theo,2), '+/-', \n",
    "      np.round(sig_omega_C_theo,2))\n",
    "print('omega_L_theo =', np.round(omega_L_theo,2), '+/-', \n",
    "      np.round(sig_omega_L_theo,2))"
   ]
  },
  {
   "cell_type": "markdown",
   "id": "411ec5de-8e8b-4878-9d72-1bff578c82ac",
   "metadata": {},
   "source": [
    "7 Bandsperre\n",
    "---"
   ]
  },
  {
   "cell_type": "code",
   "execution_count": 20,
   "id": "42a570ff-4f78-447c-8f6b-a13a9d72af96",
   "metadata": {},
   "outputs": [
    {
     "name": "stdout",
     "output_type": "stream",
     "text": [
      "Kreisfrequenz Bandsperre:\n",
      "omega_bs_theo = 2390.0 +/- 40.0\n"
     ]
    }
   ],
   "source": [
    "# omega_bs\n",
    "omega_bs_theo = 2 * np.pi * f_R_4.mean() * 100\n",
    "sig_omega_bs_theo = 2 * np.pi * sqrt( (1 / sqrt(3) * np.std(f_R_4)) ** 2\n",
    "                                     + (1 / 3 * sig_f_R_4.mean()) ** 2) * 100\n",
    "\n",
    "print('Kreisfrequenz Bandsperre:')\n",
    "print('omega_bs_theo =', np.round(omega_bs_theo,-1), '+/-', \n",
    "      np.round(sig_omega_bs_theo,-1))"
   ]
  },
  {
   "cell_type": "markdown",
   "id": "fb1dfef1-9ae1-498d-bc7a-1e4e94e193a7",
   "metadata": {},
   "source": [
    "8 Signalförmung\n",
    "---"
   ]
  },
  {
   "cell_type": "code",
   "execution_count": 17,
   "id": "da533145-95ad-437a-b2d0-6381246f3397",
   "metadata": {},
   "outputs": [
    {
     "name": "stdout",
     "output_type": "stream",
     "text": [
      "Verhältnisse zum reinen Signal:\n",
      "[0.09015711 0.70794578 0.90157114] H\n",
      "[0.62158425 6.83911647 0.17398027] T\n",
      "[0.03315126 0.92469817 0.60186626] B (1kOhm)\n",
      "[0.00152933 0.3258367  0.03151374] B (47Ohm)\n",
      "\n",
      "\"Normierte\" Verhältnisse zum reinen Signal:\n",
      "[0.12735031 1.         1.27350308] H\n",
      "[0.09088663 1.         0.025439  ] T\n",
      "[0.03585089 1.         0.65087861] B (1kOhm)\n",
      "[0.00469353 1.         0.09671637] B (47Ohm)\n"
     ]
    }
   ],
   "source": [
    "# Umrechnung von dBV in V\n",
    "#U[V] = 1V * 10 ** (L_U[dBV] / 20) \n",
    "\n",
    "# Frequenzen entsprechend Signal 1, 2, 3\n",
    "f_8 = np.array([0.08, 3.60, 8]) # kHz\n",
    "sig_f_8 = np.array([.02, .02, .05])\n",
    "\n",
    "# Werte Tabelle 6 (reines Signal), angepasst\n",
    "A_1 = 10 ** (1 / 20 * np.array([-3, -7.7, -8.5]))\n",
    "\n",
    "# Werte Tabelle 7 (Hochpass), angepasst\n",
    "A_2 = 10 ** (1 / 20 * np.array([-23.9, -10.7, -9.4]))\n",
    "\n",
    "# Werte Tabelle 8 (Tiefpass / LC), angepasst\n",
    "A_3 = 10 ** (1 / 20 * np.array([-7.13, 9, -23.69])) # mittlerer Wert fehlt, ca +8, +10 dBV nach Angaben des Tutors\n",
    "\n",
    "# Werte Tabelle 9 (Bandpass), angepasst\n",
    "A_4 = 10 ** (1 / 20 * np.array([-32.59, -8.38, -12.91]))\n",
    "\n",
    "# Werte Tabelle 10, Bandpass mit R = 47 Ohm\n",
    "A_5 = 10 ** (1 / 20 * np.array([-59.31, -17.44, -38.53]))\n",
    "\n",
    "# Verhältnis zum reinen Signal\n",
    "V_2 = A_2 / A_1\n",
    "V_3 = A_3 / A_1\n",
    "V_4 = A_4 / A_1\n",
    "V_5 = A_5 / A_1\n",
    "\n",
    "print(\"Verhältnisse zum reinen Signal:\")\n",
    "print(V_2, 'H')\n",
    "print(V_3, 'T')\n",
    "print(V_4, 'B (1kOhm)')\n",
    "print(V_5, 'B (47Ohm)')\n",
    "print()\n",
    "\n",
    "#Zum Vergleich der Schaltungen werden alle Verhältnisse so \"normiert\", dass das 4kHz-Signal ungedämpft erscheint\n",
    "V_2_n = V_2 / V_2[1]\n",
    "V_3_n = V_3 / V_3[1]\n",
    "V_4_n = V_4 / V_4[1]\n",
    "V_5_n = V_5 / V_5[1]\n",
    "\n",
    "print('\"Normierte\" Verhältnisse zum reinen Signal:')\n",
    "print(V_2_n, 'H')\n",
    "print(V_3_n, 'T')\n",
    "print(V_4_n, 'B (1kOhm)')\n",
    "print(V_5_n, 'B (47Ohm)')"
   ]
  },
  {
   "cell_type": "code",
   "execution_count": 45,
   "id": "49c0256a-c4ce-4dda-abbb-51a901ebb1b7",
   "metadata": {},
   "outputs": [
    {
     "name": "stdout",
     "output_type": "stream",
     "text": [
      "100Hz-Signal nach Dämpfung durch Hochpass: 9.02%.\n",
      "Dämpfung durch Hochpass in Aufgabe 3 für 100Hz-Signale 3.16%.\n",
      "Das 1 Sigma Intervall geht von 2.51% bis 3.98%.\n"
     ]
    }
   ],
   "source": [
    "# Vergleich zwischen 100 Hz Signal und Aufgabe 3\n",
    "print(\"100Hz-Signal nach Dämpfung durch Hochpass: \"+str(round(100 * V_2[0],2))+\"%.\")\n",
    "\n",
    "# Schätze Dämpfung durch Zählung der Kästchen in Abbildung 17 (-30(2) dBV)\n",
    "v_A3 = 10 ** (-30 / 20)\n",
    "print(\"Dämpfung durch Hochpass in Aufgabe 3 für 100Hz-Signale \"+str(round(100*v_A3,2))+\"%.\")\n",
    "\n",
    "# Vergleich\n",
    "# 1-sigma Intervall\n",
    "V_A3_1 = 10 ** (-32 / 20)\n",
    "V_A3_2 =10 ** (-28 / 20)\n",
    "print(\"Das 1 Sigma Intervall geht von \" + str(round(100*V_A3_1,2)) + \"% bis \"+str(round(100 * V_A3_2,2)) + \"%.\")"
   ]
  },
  {
   "cell_type": "code",
   "execution_count": null,
   "id": "dfe2eb75-3e4b-4a18-bd81-a7a2c21daebb",
   "metadata": {},
   "outputs": [],
   "source": []
  }
 ],
 "metadata": {
  "kernelspec": {
   "display_name": "Python 3",
   "language": "python",
   "name": "python3"
  },
  "language_info": {
   "codemirror_mode": {
    "name": "ipython",
    "version": 3
   },
   "file_extension": ".py",
   "mimetype": "text/x-python",
   "name": "python",
   "nbconvert_exporter": "python",
   "pygments_lexer": "ipython3",
   "version": "3.7.3"
  }
 },
 "nbformat": 4,
 "nbformat_minor": 5
}
