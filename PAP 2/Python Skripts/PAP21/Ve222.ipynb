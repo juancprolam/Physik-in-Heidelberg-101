{
 "cells": [
  {
   "cell_type": "markdown",
   "id": "a4d1c025-9a60-47b2-93b5-2b7bcb54858a",
   "metadata": {},
   "source": [
    "VIII: Auswertung\n",
    "==="
   ]
  },
  {
   "cell_type": "code",
   "execution_count": 1,
   "id": "b66a69c2-dc92-4201-a7bc-8adb31f4fbf6",
   "metadata": {},
   "outputs": [],
   "source": [
    "import matplotlib.pyplot as plt\n",
    "%matplotlib inline\n",
    "import numpy as np\n",
    "from numpy import exp, sqrt, log, pi\n",
    "from scipy.optimize import curve_fit\n",
    "from scipy.stats import chi2\n",
    "\n",
    "def fehler(G, sig_G, G_lit, sig_G_lit):\n",
    "    print('Relativer Fehler: ', sig_G / G * 100)\n",
    "    print('Rel. Fehler (Vergleich):', sig_G_lit / G_lit * 100)\n",
    "    print('Absoluter Fehler: ', np.abs(G - G_lit))\n",
    "    print('Sigma-Abweichung: ', np.abs(G - G_lit) / sqrt(sig_G ** 2 \n",
    "                                                         + sig_G_lit ** 2))"
   ]
  },
  {
   "cell_type": "markdown",
   "id": "452b0ec4-bed7-486e-8d7e-5e196e859588",
   "metadata": {},
   "source": [
    "1: Betrieb als Kältemaschine\n",
    "---"
   ]
  },
  {
   "cell_type": "code",
   "execution_count": 2,
   "id": "a6d3c86b-769c-40d5-aa1b-195e999f95d7",
   "metadata": {},
   "outputs": [],
   "source": [
    "## Teilaufgabe 1: Heizwendel ##\n",
    "UH_1 = 5.69 # V\n",
    "sig_UH_1 = 0.01\n",
    "IH_1 = 5 * 1.11 # A\n",
    "sig_IH_1 = 5 * 0.01 \n",
    "c_W = 4180 # J kg^-1 K^-1\n",
    "rho_W = 997 # kg m^-3\n",
    "Delta_T_1 = 3.5 # K\n",
    "sig_Delta_T_1 = 0.2 # K\n",
    "\n",
    "f_list = np.array([324.8, 326.5, 325.9]) / 60 # min^-1\n",
    "f = np.mean(f_list)\n",
    "sig_f = 1 / sqrt(3) * np.std(f_list)\n",
    "\n",
    "Vdot_list = np.array([232.1, 228.9, 228.5])\n",
    "Vdot = np.mean(Vdot_list)\n",
    "sig_Vdot = 1 / sqrt(3) * np.std(Vdot_list)\n",
    "\n",
    "# Teilaufgabe 2: Motor\n",
    "UM = 24.1 # V\n",
    "sig_UM = 0.1\n",
    "IM = 2 # A\n",
    "sig_IM = 0.01\n",
    "T_zu_2 = 19 # ºC\n",
    "T_ab_2 = 21.5\n",
    "Delta_T_2 = T_ab_2 - T_zu_2 # K\n",
    "sig_Delta_T_2 = 0.2 \n",
    "\n",
    "f_list_2 = np.array([320.9, 320.4, 311.6]) / 60\n",
    "f_2 = np.mean(f_list_2)\n",
    "sig_f_2 = 1 / sqrt(3) * np.std(f_list_2)\n",
    "\n",
    "Vdot_list_2 = np.array([225.4, 229.2, 228.9])\n",
    "Vdot_2 = np.mean(Vdot_list_2)\n",
    "sig_Vdot_2 = 1 / sqrt(3) * np.std(Vdot_list_2)"
   ]
  },
  {
   "cell_type": "code",
   "execution_count": 3,
   "id": "5980eb84-b0c3-4657-b921-14ed6871219a",
   "metadata": {},
   "outputs": [
    {
     "name": "stdout",
     "output_type": "stream",
     "text": [
      "Kälteleistung P_H_1 =  31.58 +/- 0.29 [W]\n",
      "Wärmemenge Q_2 = 5.82 +/- 0.05 [J]\n",
      "Wärmemenge Q_1 = 10.3 +/- 0.6 [J]\n",
      "Mechanische Arbeit W_M = 9.1 +/- 0.09 [J]\n",
      "\n",
      "Wärmeverlust Delta Q = 4.6 +/- 1.0\n"
     ]
    }
   ],
   "source": [
    "# Berechnungen: \n",
    "PH_1 = UH_1 * IH_1 # V A = W\n",
    "sig_PH_1 = sqrt( (UH_1 * sig_IH_1) ** 2 + (sig_UH_1 * IH_1) ** 2)\n",
    "\n",
    "print('Kälteleistung P_H_1 = ', np.round(PH_1,3), '+/-', \n",
    "      np.round(sig_PH_1,3), '[W]')\n",
    "\n",
    "Q_2 = PH_1 / f # W / min^-1 = J\n",
    "sig_Q_2 = sqrt( (sig_PH_1 / f) ** 2 + (PH_1 * sig_f / f ** 2) ** 2)\n",
    "\n",
    "print('Wärmemenge Q_2 =', np.round(Q_2, 2), '+/-', np.round(sig_Q_2, 2), '[J]')\n",
    "\n",
    "Q_1 = 1/60 * 1e-6 * c_W * rho_W * Delta_T_1 * Vdot / f # J\n",
    "rho_Q_1 = sqrt( (sig_Delta_T_1 / Delta_T_1) ** 2 + (sig_Vdot / Vdot) ** 2 \n",
    "               + (sig_f / f) ** 2 )\n",
    "sig_Q_1 = Q_1 * rho_Q_1\n",
    "print('Wärmemenge Q_1 =', np.round(Q_1, 1), '+/-', np.round(sig_Q_1, 1), '[J]')\n",
    "\n",
    "W_M = IM * UM / f_2 # W * min = J * 60\n",
    "rho_W_M = sqrt( (sig_IM / IM) ** 2 + (sig_UM / UM) ** 2 + (sig_f_2 / f_2) ** 2 )\n",
    "sig_W_M = W_M * rho_W_M\n",
    "print('Mechanische Arbeit W_M =', np.round(W_M, 2), '+/-', \n",
    "      np.round(sig_W_M, 2), '[J]')\n",
    "\n",
    "print('\\nWärmeverlust Delta Q =', np.round(Q_2 + W_M - Q_1,1), '+/-', \n",
    "      np.round(sqrt(sig_Q_2 ** 2 + sig_Q_1 ** 2 + sig_W_M ** 1)))"
   ]
  },
  {
   "cell_type": "code",
   "execution_count": 4,
   "id": "76f31d13-2896-44cc-b3d6-56ab492ebdd7",
   "metadata": {},
   "outputs": [
    {
     "name": "stdout",
     "output_type": "stream",
     "text": [
      "Wirkungsgrad eta = 63.9 +/- 0.9\n",
      "\n",
      "Energiebilanz:\n",
      "Relativer Fehler:  5.729957947893736\n",
      "Rel. Fehler (Vergleich): 0.715520945367871\n",
      "Absoluter Fehler:  4.629998685100039\n",
      "Sigma-Abweichung:  7.725655433281795\n"
     ]
    }
   ],
   "source": [
    "# Wirkungsgrad und Energiebilanz\n",
    "eta = Q_2 / W_M\n",
    "sig_eta = sqrt( (sig_Q_2 / W_M) ** 2 + (Q_2 * sig_W_M / W_M ** 2) ** 2 )\n",
    "print('Wirkungsgrad eta =', np.round(100 * eta,1), '+/-', np.round(100 * sig_eta,1))\n",
    "print('\\nEnergiebilanz:')\n",
    "fehler(Q_1, sig_Q_1, Q_2 + W_M, sqrt(sig_Q_2 ** 2 + sig_W_M ** 2))\n"
   ]
  },
  {
   "cell_type": "markdown",
   "id": "4a5700d0-4e9a-4b28-ad28-45620355316b",
   "metadata": {},
   "source": [
    "2: Betrieb als Kältemaschine und Wärmepumpe\n",
    "--"
   ]
  },
  {
   "cell_type": "code",
   "execution_count": 5,
   "id": "d7d8c0a5-3ce7-413f-af3c-1b7d593a55a2",
   "metadata": {},
   "outputs": [
    {
     "name": "stdout",
     "output_type": "stream",
     "text": [
      "Kälteleistung P_K = 7.4 +/- 1.9 [W]\n",
      "\n",
      "Relativer Fehler:  0.9178831160285306\n",
      "Rel. Fehler (Vergleich): 25.609845714702466\n",
      "Absoluter Fehler:  24.157388888888896\n",
      "Sigma-Abweichung:  12.56387590827737\n"
     ]
    }
   ],
   "source": [
    "V = 4 # ml\n",
    "sig_V = 1\n",
    "lambda_H20 = 335 * 1e3 # J kg^-1\n",
    "t = 180 # s\n",
    "sig_t = 10\n",
    "\n",
    "# Berechnung:\n",
    "PK_2 = 1e-6 * lambda_H20 * rho_W * V / t # W\n",
    "sig_PK_2 = 1e-6 * lambda_H20 * rho_W * sqrt( (sig_V / t) ** 2 \n",
    "                                            + (V * sig_t / t ** 2) ** 2 )\n",
    "print('Kälteleistung P_K =', np.round(PK_2, 1), '+/-', \n",
    "      np.round(sig_PK_2, 1), '[W]\\n')\n",
    "\n",
    "# Vergleich zwischen PH_1 und PK_2\n",
    "fehler(PH_1, sig_PH_1, PK_2, sig_PK_2)"
   ]
  },
  {
   "cell_type": "markdown",
   "id": "70283196-066b-4500-a578-3fc1b67bda17",
   "metadata": {},
   "source": [
    "3: Wärmekraftmaschine\n",
    "---"
   ]
  },
  {
   "cell_type": "code",
   "execution_count": 6,
   "id": "16d0bb72-b6cc-4499-83bf-cbdb82bbe9d6",
   "metadata": {},
   "outputs": [],
   "source": [
    "# Teil 3\n",
    "UH_3 = 11.63 # V \n",
    "sig_UH_3 = 0.1 \n",
    "IH_3 = 5 * 2.52 # A\n",
    "sig_IH_3 = 5 * 0.1\n",
    "T_zu = 18.4 # C\n",
    "T_ab = 20.6\n",
    "Delta_T_3 = T_ab - T_zu # K\n",
    "sig_Delta_T_3 = 0.2 \n",
    "\n",
    "f_list_3 = np.array([285.3, 290.0, 287.6]) / 60\n",
    "f_3 = np.mean(f_list_3)\n",
    "sig_f_3 = 1 / sqrt(3) * np.std(f_list_3)\n",
    "\n",
    "Vdot_list_3 = np.array([225.0, 222.9, 225.6])\n",
    "Vdot_3 = np.mean(Vdot_list_3)\n",
    "sig_Vdot_3 = 1 / sqrt(3) * np.std(Vdot_list_3)\n",
    "\n",
    "W_pV_list = 1e-4 * np.array([17230, 17060, 17050]) # 10^-4 hPa cm^3 = J\n",
    "W_pV = np.mean(W_pV_list)\n",
    "sig_W_pV = 1 / sqrt(3) * np.std(W_pV_list)\n"
   ]
  },
  {
   "cell_type": "code",
   "execution_count": 7,
   "id": "81193fa2-86d4-4e25-92d1-840794f18095",
   "metadata": {},
   "outputs": [
    {
     "name": "stdout",
     "output_type": "stream",
     "text": [
      "P_el = 147.0 +/- 6.0 [W]\n",
      "Q_el = 30.6 +/- 1.2 [J]\n",
      "\n",
      "P_ab = 34.0 +/- 3.0 [W]\n",
      "Q_ab = 7.2 +/- 0.7 [J]\n",
      "\n",
      "P_pV = 8.2 +/- 0.04 [W]\n",
      "W_pV = 1.711 +/- 0.005 [J]\n",
      "\n",
      "eta_th = 5.6 +/- 0.2 [%]\n"
     ]
    }
   ],
   "source": [
    "# Berechnungen:\n",
    "P_el = UH_3 * IH_3 # W\n",
    "sig_P_el = sqrt( (sig_UH_3 * IH_3) ** 2 + (UH_3 * sig_IH_3) ** 2 ) # W\n",
    "Q_el = P_el / f_3 # J\n",
    "sig_Q_el = sqrt( (sig_P_el / f_3) ** 2 + (P_el * sig_f_3 / f_3 ** 2) ** 2 )\n",
    "\n",
    "P_ab = 1/60 * 1e-6 * c_W * rho_W * Delta_T_3 * Vdot_3 # W\n",
    "sig_P_ab = 1/60 * 1e-6 * c_W * rho_W * sqrt( (sig_Delta_T_3 * Vdot_3) ** 2 \n",
    "                                            + (Delta_T_3 * sig_Vdot_3) ** 2 )\n",
    "Q_ab = P_ab / f_3 # J\n",
    "sig_Q_ab = sqrt( (sig_P_ab / f_3) ** 2 + (P_ab * sig_f_3 / f_3 ** 2) ** 2 )\n",
    "\n",
    "P_pV = W_pV * f_3 # W\n",
    "sig_P_pV = sqrt( (sig_W_pV * f_3) ** 2 + (W_pV * sig_f_3) ** 2)\n",
    "\n",
    "eta_th = W_pV / Q_el # %\n",
    "sig_eta_th = sqrt((sig_W_pV / Q_el) ** 2 + (W_pV * sig_Q_el / Q_el ** 2 ) ** 2)\n",
    "\n",
    "print('P_el =', np.round(P_el, 0), '+/-', np.round(sig_P_el, 0), '[W]')\n",
    "print('Q_el =', np.round(Q_el, 1), '+/-', np.round(sig_Q_el, 1), '[J]')\n",
    "print('\\nP_ab =', np.round(P_ab, 0), '+/-', np.round(sig_P_ab, 0), '[W]')\n",
    "print('Q_ab =', np.round(Q_ab, 1), '+/-', np.round(sig_Q_ab, 1), '[J]')\n",
    "print('\\nP_pV =', np.round(P_pV, 2), '+/-', np.round(sig_P_pV, 2), '[W]')\n",
    "print('W_pV =', np.round(W_pV, 3), '+/-', np.round(sig_W_pV, 3), '[J]')\n",
    "print('\\neta_th =', np.round(100 * eta_th, 1), '+/-', \n",
    "      np.round(100 * sig_eta_th, 1), '[%]')"
   ]
  },
  {
   "cell_type": "code",
   "execution_count": 8,
   "id": "c3d7cc7f-ed90-476a-8c70-a0cc6c4a4331",
   "metadata": {},
   "outputs": [
    {
     "name": "stdout",
     "output_type": "stream",
     "text": [
      "Energieverluste:\n",
      "Q_V = 21.7 +/- 1.4 [J]\n"
     ]
    }
   ],
   "source": [
    "# Energiebilanz:\n",
    "Q_V = Q_el - W_pV - Q_ab\n",
    "sig_Q_V = sqrt(sig_Q_el ** 2 + sig_W_pV ** 2 + sig_Q_ab ** 2)\n",
    "\n",
    "print('Energieverluste:')\n",
    "print('Q_V =', np.round(Q_V, 1), '+/-', np.round(sig_Q_V, 1), '[J]')"
   ]
  },
  {
   "cell_type": "code",
   "execution_count": 9,
   "id": "7319b1ee-05b8-412c-a3c7-39c7e6e7cb10",
   "metadata": {},
   "outputs": [
    {
     "name": "stdout",
     "output_type": "stream",
     "text": [
      "[3.905 4.302 4.764 5.207]\n",
      "[0.014 0.016 0.071 0.046]\n"
     ]
    }
   ],
   "source": [
    "# Drehmomentmessung:\n",
    "l = 0.25 # m\n",
    "F = np.array([0.8, 0.6, 0.4, 0.2])\n",
    "sig_F = 0.05 * np.ones(4)\n",
    "\n",
    "UH_3b = np.array([11.64, 11.64, 11.60, 11.62]) # V\n",
    "sig_UH_3b = 0.1 * np.ones(4)\n",
    "IH_3b = 5 * np.array([2.53, 2.53, 2.52, 2.52]) # A\n",
    "sig_IH_3b = 0.5 * np.ones(4)\n",
    "\n",
    "f_3b_list = np.array([[234.9, 235.7, 232.3], [260.1, 258.2, 256], \n",
    "                      [296.1, 282.5, 278.9], [319.1, 310.2, 308.0]])/ 60 # s^-1\n",
    "f_3b = np.array([np.mean(f_3b_list[i]) for i in range(4)])\n",
    "sig_f_3b = 1/sqrt(3) * np.array([np.std(f_3b_list[i]) for i in range(4)])\n",
    "\n",
    "W_pV_D_list = 1e-4 * np.array([[72690, 73200, 73420], [68650, 70040, 70090], \n",
    "                   [21820, 22010, 21880], [20220, 20150, 20340]]) # J\n",
    "W_pV_D = np.array([np.mean(W_pV_D_list[i]) for i in range(4)])\n",
    "sig_W_pV_D = 1 / sqrt(3) * np.array([np.std(W_pV_D_list[i]) for i in range(4)])\n",
    "print(np.round(f_3b,3))\n",
    "print(np.round(sig_f_3b,3))"
   ]
  },
  {
   "cell_type": "code",
   "execution_count": 10,
   "id": "0e8e2490-5125-44f8-9d86-532076a726ea",
   "metadata": {},
   "outputs": [
    {
     "name": "stdout",
     "output_type": "stream",
     "text": [
      "W_pV_D =  [7.31  6.959 2.19  2.024]\n",
      "      +/- [0.018 0.039 0.005 0.005] [J]\n",
      "\n",
      "W_D =  [1.26 0.94 0.63 0.31]\n",
      "   +/- [0.08 0.08 0.08 0.08] [J]\n",
      "\n",
      "eta_th_D =  [23.9 22.8  7.2  6.6]\n",
      "        +/- [1.  0.9 0.3 0.3]\n",
      "\n",
      "eta_eff =  [4.1 3.1 2.1 1. ]\n",
      "       +/- [0.3 0.3 0.3 0.3]\n"
     ]
    }
   ],
   "source": [
    "# Berechnungen:\n",
    "W_D = 2 * pi * l * F\n",
    "sig_W_D = 2 * pi * l * sig_F\n",
    "\n",
    "eta_th_D = W_pV_D / Q_el\n",
    "sig_eta_th_D = sqrt( (sig_W_pV_D / Q_el) ** 2 + (W_pV_D * sig_Q_el / Q_el ** 2) ** 2)\n",
    "\n",
    "eta_eff = W_D / Q_el\n",
    "sig_eta_eff = sqrt( (sig_W_D / Q_el) ** 2 + (W_D * sig_Q_el / Q_el ** 2) ** 2 )\n",
    "\n",
    "\n",
    "print('W_pV_D = ', np.round(W_pV_D, 3))\n",
    "print('      +/-', np.round(sig_W_pV_D, 3), '[J]')\n",
    "print('\\nW_D = ', np.round(W_D, 2))\n",
    "print('   +/-', np.round(sig_W_D, 2), '[J]' )\n",
    "print('\\neta_th_D = ', np.round(100 * eta_th_D, 1))\n",
    "print('        +/-', np.round(100 *sig_eta_th_D, 1))\n",
    "print('\\neta_eff = ', np.round(100 *eta_eff, 1))\n",
    "print('       +/-', np.round(100 *sig_eta_eff, 1))"
   ]
  },
  {
   "cell_type": "code",
   "execution_count": 11,
   "id": "a6287ea2-3f73-4b43-a0ab-7e3769726a73",
   "metadata": {},
   "outputs": [
    {
     "data": {
      "image/png": "[encoded data removed]",
      "text/plain": [
       "<Figure size 864x504 with 1 Axes>"
      ]
     },
     "metadata": {
      "needs_background": "light"
     },
     "output_type": "display_data"
    }
   ],
   "source": [
    "# Graphische Darstellung\n",
    "plt.figure(figsize = (12, 7))\n",
    "plt.errorbar(f_3b, eta_th_D, fmt = '.', yerr = sig_eta_th_D, xerr = sig_f_3b, \n",
    "             capsize = 2, label = 'eta_th_D')\n",
    "plt.errorbar(f_3b, eta_eff, fmt = '.', yerr = sig_eta_eff, xerr = sig_f_3b,\n",
    "            capsize = 2, label = 'eta_eff')\n",
    "plt.title('Wirkungsgrad als Funktion der Motorfrequenz', size = 16)\n",
    "plt.ylabel('Wirkungsgrad $\\\\eta$', size = 14)\n",
    "plt.xlabel('Frequenz $f$ [s$^{-1}$]', size = 14)\n",
    "\n",
    "plt.legend(loc = 'best')\n",
    "plt.savefig('images/222/V222Diagramm1.png')\n",
    "plt.show()"
   ]
  },
  {
   "cell_type": "markdown",
   "id": "be584bce-4eec-4f37-ba82-149610c0a223",
   "metadata": {},
   "source": [
    "Sigmas\n",
    "--"
   ]
  },
  {
   "cell_type": "code",
   "execution_count": 12,
   "id": "e851da88-93f6-41c9-a8b0-88a25055946c",
   "metadata": {},
   "outputs": [
    {
     "name": "stdout",
     "output_type": "stream",
     "text": [
      "Relativer Fehler:  0.9178831160285306\n",
      "Rel. Fehler (Vergleich): 25.609845714702466\n",
      "Absoluter Fehler:  24.157388888888896\n",
      "Sigma-Abweichung:  12.56387590827737\n"
     ]
    }
   ],
   "source": [
    "# Kälteleistung\n",
    "fehler(PH_1, sig_PH_1, PK_2, sig_PK_2)"
   ]
  }
 ],
 "metadata": {
  "kernelspec": {
   "display_name": "Python 3",
   "language": "python",
   "name": "python3"
  },
  "language_info": {
   "codemirror_mode": {
    "name": "ipython",
    "version": 3
   },
   "file_extension": ".py",
   "mimetype": "text/x-python",
   "name": "python",
   "nbconvert_exporter": "python",
   "pygments_lexer": "ipython3",
   "version": "3.7.3"
  }
 },
 "nbformat": 4,
 "nbformat_minor": 5
}
