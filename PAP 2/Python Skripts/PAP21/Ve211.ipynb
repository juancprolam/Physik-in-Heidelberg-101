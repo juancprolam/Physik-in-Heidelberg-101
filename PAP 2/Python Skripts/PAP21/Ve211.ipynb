{
 "cells": [
  {
   "cell_type": "markdown",
   "id": "8850e4b8-b050-4fb5-a36d-b9f293545511",
   "metadata": {},
   "source": [
    "VIII Evaluation\n",
    "=="
   ]
  },
  {
   "cell_type": "code",
   "execution_count": 5,
   "id": "76b816f9-5acd-4dcb-a9de-480b05b7b7ae",
   "metadata": {},
   "outputs": [],
   "source": [
    "import matplotlib.pyplot as plt\n",
    "import matplotlib.mlab as mlab\n",
    "%matplotlib inline\n",
    "import numpy as np\n",
    "from numpy import exp, sqrt, log, pi\n",
    "from scipy.optimize import curve_fit\n",
    "from scipy.stats import chi2\n",
    "from scipy import odr\n",
    "from scipy.integrate import quad\n",
    "from scipy.signal import find_peaks\n",
    "from scipy.signal import argrelextrema, argrelmin, argrelmax\n",
    "\n",
    "\n",
    "def fehler(name, G, sig_G, G_lit, sig_G_lit):\n",
    "    print(name)\n",
    "    print('Relativer Fehler: ', sig_G / G * 100)\n",
    "    print('Rel. Fehler (Vergleich):', sig_G_lit / G_lit * 100)\n",
    "    print('Absoluter Fehler: ', G - G_lit)\n",
    "#    print('Verhältnis:', G / G_lit)\n",
    "    print('Sigma-Abweichung: ', np.abs(G - G_lit) / sqrt(sig_G ** 2 \n",
    "                                                         + sig_G_lit ** 2),'\\n')\n",
    "    \n",
    "    \n",
    "def fehler_small(name, G, sig_G):\n",
    "    print(name)\n",
    "    print('Relativer Fehler: ', sig_G / G * 100)\n",
    "    \n",
    "\n",
    "def ergebnis(name, G, sig_G, komma, einheit):\n",
    "    print(name + ' =', np.round(G, komma), '+/-', np.round(sig_G, komma), einheit)\n",
    "    \n",
    "\n",
    "def ergebnis_large(name, G, sig_G, komma, einheit):\n",
    "    print(name + ' =', np.round(G, komma))\n",
    "    print('+/-'.rjust(len(name) + 2), np.round(sig_G, komma), einheit)\n",
    "    \n",
    "\n",
    "def fitparameter(name, G, sig_G, komma, einheit):\n",
    "    return name + ' =' + str(np.round(G, komma)) + '$\\pm$' + str(np.round(sig_G, komma)) + einheit"
   ]
  },
  {
   "cell_type": "markdown",
   "id": "a9914110-ddf1-4a1d-823e-d7ad17e30e91",
   "metadata": {},
   "source": [
    "Frequencies\n",
    "---"
   ]
  },
  {
   "cell_type": "code",
   "execution_count": 6,
   "id": "3735ee48-b45a-4983-8032-ab082ce92380",
   "metadata": {},
   "outputs": [
    {
     "name": "stdout",
     "output_type": "stream",
     "text": [
      "Experimentell:\n",
      "f_I = [0.634 0.65  0.674]\n",
      "  +/- [0.004 0.003 0.004] [Hz]\n",
      "f_II = [0.012 0.029 0.054]\n",
      "   +/- [0.004 0.003 0.004] [Hz]\n",
      "Theoretisch:\n",
      "f_I_theo = [0.638 0.651 0.679]\n",
      "       +/- [0.006 0.004 0.006] [Hz]\n",
      "f_II_theo = [0.018 0.03  0.058]\n",
      "        +/- [0.006 0.004 0.006] [Hz]\n"
     ]
    }
   ],
   "source": [
    "# Experimental values\n",
    "f_free = 0.62 # Hz\n",
    "sig_f_free = 0.005\n",
    "\n",
    "f_1 = np.array([0.620, 0.621, 0.621]) \n",
    "sig_f_1 = np.ones(3) * 0.005\n",
    "\n",
    "f_2 = np.array([0.655, 0.680, 0.737])\n",
    "sig_f_2 = np.array([0.010, 0.005, 0.011])\n",
    "\n",
    "f_s1 = np.array([0.622, 0.621, 0.620])\n",
    "sig_f_s1 = np.array([0.005, 0.004, 0.004])\n",
    "\n",
    "f_s2 = np.array([0.646, 0.678, 0.728])\n",
    "sig_f_s2 = np.array([0.006, 0.004, 0.006])\n",
    "\n",
    "f_I = 1 / 2 * (f_s1 + f_s2)\n",
    "f_II = 1 / 2 * (f_s2 - f_s1)\n",
    "sig_f = 1 / 2 * sqrt( (sig_f_s1) ** 2 + (sig_f_s2) ** 2)\n",
    "\n",
    "# Theoretical values\n",
    "f_I_theo = 1 / 2 * (f_1 + f_2)\n",
    "f_II_theo = 1 / 2 * (f_2 - f_1)\n",
    "sig_f_theo = 1 / 2 * sqrt( (sig_f_1) ** 2 + (sig_f_2) ** 2 )\n",
    "\n",
    "print('Experimentell:')\n",
    "ergebnis_large('f_I', f_I, sig_f, 3, '[Hz]')\n",
    "ergebnis_large('f_II', f_II, sig_f, 3, '[Hz]')\n",
    "\n",
    "print('Theoretisch:')\n",
    "ergebnis_large('f_I_theo', f_I_theo, sig_f_theo, 3, '[Hz]')\n",
    "ergebnis_large('f_II_theo', f_II_theo, sig_f_theo, 3, '[Hz]')"
   ]
  },
  {
   "cell_type": "markdown",
   "id": "a88795ec-9179-4d01-ada3-816454cd636f",
   "metadata": {},
   "source": [
    "Coupling strengths\n",
    "--"
   ]
  },
  {
   "cell_type": "code",
   "execution_count": 7,
   "id": "f2d1ebc8-d388-43a7-9cbd-a646f5f6f5b1",
   "metadata": {},
   "outputs": [
    {
     "name": "stdout",
     "output_type": "stream",
     "text": [
      "kappa = [0.058 0.1   0.204]\n",
      "    +/- [0.019 0.013 0.024] \n",
      "kappa_s = [0.039 0.096 0.189]\n",
      "      +/- [0.013 0.01  0.014] \n"
     ]
    }
   ],
   "source": [
    "kappa = f_2 ** 2 / (2 * f_1 ** 2) - 1 / 2\n",
    "sig_kappa = sqrt( (f_2 * sig_f_2 / (f_1 ** 2)) ** 2 \n",
    "                 + (f_2 ** 2 * sig_f_1 / (f_1 ** 3)) ** 2 )\n",
    "\n",
    "kappa_s = f_s2 ** 2 / (2 * f_s1 ** 2) - 1 / 2\n",
    "sig_kappa_s = sqrt( (f_s2 * sig_f_s2 / (f_s1 ** 2)) ** 2 \n",
    "                 + (f_s2 ** 2 * sig_f_s1 / (f_s1 ** 3)) ** 2 )\n",
    "\n",
    "ergebnis_large('kappa', kappa, sig_kappa, 3, '')\n",
    "ergebnis_large('kappa_s', kappa_s, sig_kappa_s, 3, '')"
   ]
  },
  {
   "cell_type": "markdown",
   "id": "4cb45586-00fb-426d-af9e-dc0969a6ae75",
   "metadata": {},
   "source": [
    "Coupling quotients\n",
    "--"
   ]
  },
  {
   "cell_type": "code",
   "execution_count": 8,
   "id": "2a7ea37e-2ee6-4f29-9bd9-92137341425d",
   "metadata": {},
   "outputs": [
    {
     "name": "stdout",
     "output_type": "stream",
     "text": [
      "v_kappa = [0.583 0.284 0.487]\n",
      "      +/- [0.208 0.1   0.086] \n",
      "v_d = [0.443 0.245 0.553]\n",
      "  +/- [0.011 0.006 0.01 ] \n"
     ]
    }
   ],
   "source": [
    "d = 10 + np.array([9.3, 19, 29])\n",
    "sig_d = 0.2 * np.ones(3)\n",
    "\n",
    "v_kappa = np.array([])\n",
    "sig_v_kappa = np.array([])\n",
    "v_d = np.array([])\n",
    "sig_v_d = np.array([])\n",
    "#order = np.array([])\n",
    "#alist = np.array([1, 2, 3])\n",
    "\n",
    "for i in range(len(kappa)):\n",
    "    for j in range(len(kappa)):\n",
    "        if i != j and i < j:\n",
    "#            order = np.append(order, alist[i] / alist[j])\n",
    "            v_kappa = np.append(v_kappa, kappa[i] / kappa[j])\n",
    "            sig_v_kappa = np.append(sig_v_kappa, \n",
    "                                    sqrt( (sig_kappa[i] / kappa[j]) ** 2 \n",
    "                                        + (kappa[i] * sig_kappa[j] \n",
    "                                           / kappa[j] ** 2) ** 2))\n",
    "            \n",
    "\n",
    "            \n",
    "            \n",
    "for i in range(len(d)):\n",
    "    for j in range(len(d)):\n",
    "        if i != j and i < j:\n",
    "            v_d = np.append(v_d, d[i] ** 2 / d[j] ** 2)\n",
    "            sig_v_d = np.append(sig_v_d, sqrt( (2 * d[i] * sig_d[i] / d[j] ** 2) ** 2 \n",
    "                                              + (d[i] ** 2 * 2 * sig_d[j] \n",
    "                                                 / d[j] ** 3) ** 2) )\n",
    "            \n",
    "            \n",
    "ergebnis_large('v_kappa', v_kappa, sig_v_kappa, 3, '')\n",
    "ergebnis_large('v_d', v_d, sig_v_d, 3, '')"
   ]
  },
  {
   "cell_type": "markdown",
   "id": "3f009c3c-8f76-4aa3-9910-897a8040f6d5",
   "metadata": {},
   "source": [
    "Sigmas\n",
    "--"
   ]
  },
  {
   "cell_type": "code",
   "execution_count": 9,
   "id": "d22fccd2-2ae3-41e1-9b06-70bc924ce242",
   "metadata": {},
   "outputs": [
    {
     "name": "stdout",
     "output_type": "stream",
     "text": [
      "Symmetrical osc.\n",
      "Relativer Fehler:  [0.80645161 0.80515298 0.80515298]\n",
      "Rel. Fehler (Vergleich): 0.8064516129032258\n",
      "Absoluter Fehler:  [0.    0.001 0.001]\n",
      "Sigma-Abweichung:  [0.         0.14142136 0.14142136] \n",
      "\n",
      "Symmetrical osc. (beat)\n",
      "Relativer Fehler:  [0.80385852 0.64412238 0.64516129]\n",
      "Rel. Fehler (Vergleich): 0.8064516129032258\n",
      "Absoluter Fehler:  [0.002 0.001 0.   ]\n",
      "Sigma-Abweichung:  [0.28284271 0.15617376 0.        ] \n",
      "\n"
     ]
    }
   ],
   "source": [
    "# Sanity check symmetrical oscillation\n",
    "fehler('Symmetrical osc.', f_1, sig_f_1, f_free, sig_f_free)\n",
    "fehler('Symmetrical osc. (beat)', f_s1, sig_f_s1, f_free, sig_f_free)"
   ]
  },
  {
   "cell_type": "code",
   "execution_count": 10,
   "id": "29b7eed7-8b4a-4fd0-87fd-24a954f3c33d",
   "metadata": {},
   "outputs": [
    {
     "name": "stdout",
     "output_type": "stream",
     "text": [
      "Frequenz f_I\n",
      "Relativer Fehler:  [0.61595029 0.43547762 0.53494826]\n",
      "Rel. Fehler (Vergleich): [0.8768894  0.54351021 0.88976774]\n",
      "Absoluter Fehler:  [-0.0035 -0.001  -0.005 ]\n",
      "Sigma-Abweichung:  [0.5132649  0.22086305 0.71066905] \n",
      "\n",
      "Frequenz f_II\n",
      "Relativer Fehler:  [32.54270698  9.9243057   6.67694681]\n",
      "Rel. Fehler (Vergleich): [31.94382825 11.9848607  10.41641894]\n",
      "Absoluter Fehler:  [-0.0055 -0.001  -0.004 ]\n",
      "Sigma-Abweichung:  [0.80655913 0.22086305 0.56853524] \n",
      "\n"
     ]
    }
   ],
   "source": [
    "# Frequenzen f_I, II\n",
    "fehler('Frequenz f_I', f_I, sig_f, f_I_theo, sig_f_theo)\n",
    "fehler('Frequenz f_II', f_II, sig_f, f_II_theo, sig_f_theo)"
   ]
  },
  {
   "cell_type": "code",
   "execution_count": 11,
   "id": "429d0b82-5b07-4d66-a849-ccef7ba79c4f",
   "metadata": {},
   "outputs": [
    {
     "name": "stdout",
     "output_type": "stream",
     "text": [
      "kappa\n",
      "Relativer Fehler:  [33.1995471  13.13700693 11.6949143 ]\n",
      "Rel. Fehler (Vergleich): [33.68889214 10.84565862  7.62052822]\n",
      "Absoluter Fehler:  [0.01871539 0.00352141 0.01487652]\n",
      "Sigma-Abweichung:  [0.80027512 0.21069344 0.5330823 ] \n",
      "\n"
     ]
    }
   ],
   "source": [
    "# Kappas\n",
    "fehler('kappa', kappa, sig_kappa, kappa_s, sig_kappa_s)"
   ]
  },
  {
   "cell_type": "code",
   "execution_count": 12,
   "id": "4290877c-a89a-4398-b007-23a5929f3037",
   "metadata": {},
   "outputs": [
    {
     "name": "stdout",
     "output_type": "stream",
     "text": [
      "v_kappa_d\n",
      "Relativer Fehler:  [35.70421374 35.19916119 17.58840446]\n",
      "Rel. Fehler (Vergleich): [2.48956108 2.31243526 1.71884745]\n",
      "Absoluter Fehler:  [ 0.14032874  0.03929943 -0.0656536 ]\n",
      "Sigma-Abweichung:  [0.67293081 0.39222824 0.76138886] \n",
      "\n"
     ]
    }
   ],
   "source": [
    "# Verhältnisse\n",
    "fehler('v_kappa_d', v_kappa, sig_v_kappa, v_d, sig_v_d)"
   ]
  },
  {
   "cell_type": "code",
   "execution_count": null,
   "id": "15f539b8-135c-4b73-beaf-3b8c9be7ae70",
   "metadata": {},
   "outputs": [],
   "source": []
  }
 ],
 "metadata": {
  "kernelspec": {
   "display_name": "Python 3",
   "language": "python",
   "name": "python3"
  },
  "language_info": {
   "codemirror_mode": {
    "name": "ipython",
    "version": 3
   },
   "file_extension": ".py",
   "mimetype": "text/x-python",
   "name": "python",
   "nbconvert_exporter": "python",
   "pygments_lexer": "ipython3",
   "version": "3.7.3"
  }
 },
 "nbformat": 4,
 "nbformat_minor": 5
}
