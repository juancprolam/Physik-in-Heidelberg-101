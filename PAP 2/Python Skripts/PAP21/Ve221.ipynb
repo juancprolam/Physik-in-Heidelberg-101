{
 "cells": [
  {
   "cell_type": "markdown",
   "id": "d9ba45dc-22a8-46c8-b2d7-b004989859f0",
   "metadata": {},
   "source": [
    "Anhang\n",
    "=="
   ]
  },
  {
   "cell_type": "code",
   "execution_count": 1,
   "id": "1324b056-b0b1-4737-a042-3e0c9f7a8bcd",
   "metadata": {},
   "outputs": [],
   "source": [
    "import matplotlib.pyplot as plt\n",
    "import matplotlib.mlab as mlab\n",
    "%matplotlib inline\n",
    "import numpy as np\n",
    "from numpy import exp, sqrt, log, pi\n",
    "from scipy.optimize import curve_fit\n",
    "from scipy.stats import chi2\n",
    "from scipy import odr\n",
    "from scipy.integrate import quad\n",
    "from scipy.signal import find_peaks\n",
    "\n",
    "\n",
    "def fehler(name, G, sig_G, G_lit, sig_G_lit):\n",
    "    print(name)\n",
    "    print('Relativer Fehler: ', sig_G / G * 100)\n",
    "    print('Rel. Fehler (Vergleich):', sig_G_lit / G_lit * 100)\n",
    "    print('Absoluter Fehler: ', G - G_lit)\n",
    "#    print('Verhältnis:', G / G_lit)\n",
    "    print('Sigma-Abweichung: ', np.abs(G - G_lit) / sqrt(sig_G ** 2 \n",
    "                                                         + sig_G_lit ** 2),'\\n')\n",
    "    \n",
    "    \n",
    "def fehler_small(name, G, sig_G):\n",
    "    print(name)\n",
    "    print('Relativer Fehler: ', sig_G / G * 100)\n",
    "    \n",
    "\n",
    "def ergebnis(name, G, sig_G, komma, einheit):\n",
    "    print(name + ' =', np.round(G, komma), '+/-', np.round(sig_G, komma), einheit)\n",
    "    \n",
    "\n",
    "def ergebnis_large(name, G, sig_G, komma, einheit):\n",
    "    print(name + ' =', np.round(G, komma))\n",
    "    print('+/-'.rjust(len(name) + 2), np.round(sig_G, komma), einheit)\n",
    "    \n",
    "\n",
    "def fitparameter(name, G, sig_G, komma, einheit):\n",
    "    return name + ' = ' + str(np.round(G, komma)) + '$\\pm$' + str(np.round(sig_G, komma)) + einheit\n",
    "\n",
    "\n",
    "def chi_sq(test_func, x_val, y_val, sig_y_val, popt, number):\n",
    "    chi2_ = np.sum((test_func(x_val, *popt) - y_val) ** 2 \n",
    "                   / sig_y_val ** 2)\n",
    "    dof = len(y_val) - number\n",
    "    chi2_red = chi2_ / dof\n",
    "\n",
    "    print(\"chi2 =\", chi2_)\n",
    "    print(\"chi2_red =\",chi2_red)\n",
    "\n",
    "    prob = np.round(1 - chi2.cdf(chi2_,dof), 2) * 100 \n",
    "    print(\"Wahrscheinlichkeit =\", prob, \"%\\n\")"
   ]
  },
  {
   "cell_type": "markdown",
   "id": "41c5b6ab-676c-4b44-a4c4-2e98cd924351",
   "metadata": {},
   "source": [
    "Clément und Desoremes\n",
    "---"
   ]
  },
  {
   "cell_type": "code",
   "execution_count": 2,
   "id": "9885f7e4-d2c7-494e-ae12-f8901f1ac252",
   "metadata": {},
   "outputs": [
    {
     "name": "stdout",
     "output_type": "stream",
     "text": [
      "kappa_cd = [1.25 1.17 1.8  1.29 1.33]\n",
      "       +/- [0.14 0.06 0.26 0.14 0.13] \n",
      "kappa_cd_mean = 1.37 +/- 0.11 \n"
     ]
    }
   ],
   "source": [
    "# Messwerte\n",
    "bh_1 = np.array([58.5, 61.5, 58.7, 58.7, 59.2]) \n",
    "bh_3 = np.array([56.5, 56.8, 57.2, 56.6, 56.8])\n",
    "b = 56\n",
    "sig_bh = 0.1\n",
    "h_1 = bh_1 - b\n",
    "h_3 = bh_3 - b\n",
    "sig_h = sqrt(2) * sig_bh\n",
    "\n",
    "kappa_cd = h_1 / (h_1 - h_3)\n",
    "sig_kappa_cd = kappa_cd * sqrt( (sig_h / h_1) ** 2 + (sqrt(2) * sig_h / (h_1 - h_3)) ** 2)\n",
    "\n",
    "ergebnis_large('kappa_cd', kappa_cd, sig_kappa_cd, 2, '')\n",
    "\n",
    "kappa_cd_mean = np.mean(kappa_cd)\n",
    "sig_kappa_cd_mean = 1 / (sqrt(len(kappa_cd) - 1)) * np.std(kappa_cd)\n",
    "\n",
    "ergebnis('kappa_cd_mean', kappa_cd_mean, sig_kappa_cd_mean, 2, '')"
   ]
  },
  {
   "cell_type": "markdown",
   "id": "3d235e27-ce37-4eb2-bf23-68299b75681a",
   "metadata": {},
   "source": [
    "Rüchardt\n",
    "---"
   ]
  },
  {
   "cell_type": "code",
   "execution_count": 11,
   "id": "37659088-1505-45db-9abd-66f3bf5daccd",
   "metadata": {},
   "outputs": [
    {
     "name": "stdout",
     "output_type": "stream",
     "text": [
      "before: p_luft = 1025.8223 +/- 2.0 [hPa]\n",
      "before: kappa_r_luft = 1.45 +/- 0.02 \n",
      "T_luft = 0.966 +/- 0.006 [s]\n",
      "after: p_luft = 1025.8223 +/- 2.0003 [hPa]\n",
      "after: kappa_r_luft = 1.45 +/- 0.02 \n"
     ]
    }
   ],
   "source": [
    "# Messwerte Luft\n",
    "m_luft = 26.116 # g\n",
    "sig_m = 0.002\n",
    "V_luft = 5370 # cm^3\n",
    "sig_V = 5\n",
    "r_luft = 15.95 / 2 # mm\n",
    "sig_r = 0.01\n",
    "T_luft = 48.31 / 50 # s\n",
    "sig_T = 0.3 / 50\n",
    "\n",
    "A_luft = pi * r_luft ** 2 # mm^2\n",
    "sig_A_luft = 2 * pi * sig_r * r_luft\n",
    "\n",
    "g = 9.81 # m s^-2\n",
    "\n",
    "p_luft = 1013 + m_luft * g / A_luft * 10 # hPa\n",
    "sig_p = sqrt(2 ** 2) # + (sig_m * g / A_luft) ** 2 \n",
    "             #+ (sig_A_luft * m_luft * g / (A_luft ** 2)) ** 2)# Nur Ablesefehler\n",
    "    \n",
    "ergebnis('before: p_luft', p_luft, sig_p, 4, '[hPa]')\n",
    "\n",
    "\n",
    "kappa_r_luft = 4 * m_luft * V_luft / (r_luft ** 4 * T_luft ** 2 * p_luft) * 10 \n",
    "sig_kappa_r_luft = kappa_r_luft * sqrt(#(sig_m / m_luft) ** 2 \n",
    "                                       #+ (sig_V / V_luft) ** 2 \n",
    "                                       + (4 * sig_r / r_luft) ** 2 \n",
    "                                       + (2 * sig_T / T_luft) ** 2 \n",
    "                                       #+ (sig_p / p_luft) ** 2 #Werte zu klein\n",
    "                                       )\n",
    "\n",
    "ergebnis('before: kappa_r_luft',kappa_r_luft, sig_kappa_r_luft, 2, '')\n",
    "\n",
    "sig_kappa_r_luft = 4 * sqrt( (sig_m * V_luft / (r_luft ** 4 * T_luft ** 2 * p_luft)) ** 2 \n",
    "                            + (m_luft * sig_V / (r_luft ** 4 * T_luft ** 2 * p_luft)) ** 2 \n",
    "                            + (m_luft * V_luft * 4 * sig_r / (r_luft ** 5 * T_luft ** 2 * p_luft)) ** 2 \n",
    "                            + (m_luft * V_luft * 2 * sig_T / (r_luft ** 4 * T_luft ** 3 * p_luft)) ** 2 \n",
    "                            + (m_luft * V_luft  * sig_p / (r_luft ** 4 * T_luft ** 2 * p_luft ** 2)) ** 2) * 10\n",
    "\n",
    "sig_p = sqrt(2 ** 2 + (10 * sig_m * g / A_luft) ** 2 \n",
    "             + (10 * sig_A_luft * m_luft * g / (A_luft ** 2)) ** 2)# Ablesefehler + Masse und Fläche\n",
    "\n",
    "ergebnis('T_luft', T_luft, sig_T, 3, '[s]')\n",
    "ergebnis('after: p_luft', p_luft, sig_p, 4, '[hPa]')\n",
    "ergebnis('after: kappa_r_luft',kappa_r_luft, sig_kappa_r_luft, 2, '')"
   ]
  },
  {
   "cell_type": "markdown",
   "id": "df2580b5-29f6-40b3-87ea-617bad3531b3",
   "metadata": {},
   "source": [
    "Sigmas\n",
    "--"
   ]
  },
  {
   "cell_type": "code",
   "execution_count": 5,
   "id": "71ad1f44-0fa3-4884-bb60-b867a9e28358",
   "metadata": {},
   "outputs": [
    {
     "name": "stdout",
     "output_type": "stream",
     "text": [
      "kappa_luft\n",
      "Relativer Fehler:  8.134982327795857\n",
      "Rel. Fehler (Vergleich): 1.3394332417173165\n",
      "Absoluter Fehler:  -0.08029271574347807\n",
      "Sigma-Abweichung:  0.7108539951508213 \n",
      "\n"
     ]
    }
   ],
   "source": [
    "# Luft\n",
    "fehler('kappa_luft', kappa_cd_mean, sig_kappa_cd_mean, kappa_r_luft, sig_kappa_r_luft)"
   ]
  },
  {
   "cell_type": "code",
   "execution_count": 6,
   "id": "cd951078-b5fc-4310-be86-9712c0912070",
   "metadata": {},
   "outputs": [
    {
     "name": "stdout",
     "output_type": "stream",
     "text": [
      "kappa_arg\n",
      "Relativer Fehler:  1.4068435245022695\n",
      "Rel. Fehler (Vergleich): 0.0\n",
      "Absoluter Fehler:  -0.01329448533125599\n",
      "Sigma-Abweichung:  0.5780776856688609 \n",
      "\n"
     ]
    }
   ],
   "source": [
    "# Argon\n",
    "kappa_arg_lit = 1.648\n",
    "fehler('kappa_arg', kappa_r_arg, sig_kappa_r_arg, kappa_arg_lit, 0)"
   ]
  },
  {
   "cell_type": "code",
   "execution_count": null,
   "id": "4019653e-3ac5-42df-902f-ef0d4a8c0f9e",
   "metadata": {},
   "outputs": [],
   "source": []
  }
 ],
 "metadata": {
  "kernelspec": {
   "display_name": "Python 3",
   "language": "python",
   "name": "python3"
  },
  "language_info": {
   "codemirror_mode": {
    "name": "ipython",
    "version": 3
   },
   "file_extension": ".py",
   "mimetype": "text/x-python",
   "name": "python",
   "nbconvert_exporter": "python",
   "pygments_lexer": "ipython3",
   "version": "3.7.3"
  }
 },
 "nbformat": 4,
 "nbformat_minor": 5
}
